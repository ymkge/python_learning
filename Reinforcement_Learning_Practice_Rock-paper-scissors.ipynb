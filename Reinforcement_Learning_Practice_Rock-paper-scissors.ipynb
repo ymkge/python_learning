{
 "cells": [
  {
   "cell_type": "code",
   "execution_count": null,
   "id": "586e6613",
   "metadata": {},
   "outputs": [
    {
     "name": "stdout",
     "output_type": "stream",
     "text": [
      "※無効な入力です。グー / チョキ / パー のいずれかを入力してください！\n",
      "【第1戦】 AI: チョキ vs あなた: グー → あなたの勝ち！\n",
      "【第2戦】 AI: グー vs あなた: グー → 引き分け！\n",
      "【第3戦】 AI: グー vs あなた: グー → 引き分け！\n",
      "【第4戦】 AI: パー vs あなた: グー → AIの勝ち！\n",
      "【第5戦】 AI: パー vs あなた: グー → AIの勝ち！\n",
      "【第6戦】 AI: パー vs あなた: グー → AIの勝ち！\n",
      "【第7戦】 AI: パー vs あなた: グー → AIの勝ち！\n",
      "【第8戦】 AI: パー vs あなた: グー → AIの勝ち！\n",
      "【第9戦】 AI: パー vs あなた: グー → AIの勝ち！\n",
      "【第10戦】 AI: パー vs あなた: グー → AIの勝ち！\n",
      "\n",
      "【最終結果】\n",
      "AIの勝ち: 7回\n",
      "あなたの勝ち: 1回\n",
      "引き分け: 2回\n"
     ]
    }
   ],
   "source": [
    "#@title 強化学習お試し用コード\n",
    "import random\n",
    "\n",
    "# じゃんけんの手を定義\n",
    "hands = [\"グー\", \"チョキ\", \"パー\"]\n",
    "\n",
    "# AIの学習用（最新5回の手を記録）\n",
    "recent_moves = []\n",
    "\n",
    "# 勝敗カウント用変数\n",
    "ai_wins = 0\n",
    "player_wins = 0\n",
    "draws = 0\n",
    "\n",
    "# 10回対戦（AI vs ユーザー）\n",
    "for i in range(10):\n",
    "    # AIの手の選び方（学習を続ける）\n",
    "    if len(recent_moves) < 3: # 最初の3回はランダム\n",
    "        ai_choice = random.choice(hands)\n",
    "    else:\n",
    "        # 直近の手を学習（最新5回のデータを使う）\n",
    "        most_common_hand = max(set(recent_moves), key=recent_moves.count)\n",
    "        \n",
    "        if most_common_hand == \"グー\":\n",
    "            ai_choice = \"パー\" # グーに勝つ手\n",
    "        elif most_common_hand == \"チョキ\":\n",
    "            ai_choice = \"グー\" # チョキに勝つ手\n",
    "        else:\n",
    "            ai_choice = \"チョキ\" # パーに勝つ手\n",
    "\n",
    "    # プレイヤーの手を入力\n",
    "    player_choice = input(\"【第{}戦】 あなたの手を入力してください（グー / チョキ / パー）：\".format(i+1))\n",
    "\n",
    "    # 無効な入力チェック\n",
    "    while player_choice not in hands:\n",
    "        print(\"※無効な入力です。グー / チョキ / パー のいずれかを入力してください！\")\n",
    "        player_choice = input(\"【第{}戦】 あなたの手を入力してください（グー / チョキ / パー）：\".format(i+1))\n",
    "\n",
    "    # プレイヤーの手を記録（最新5回のみ保持）\n",
    "    recent_moves.append(player_choice)\n",
    "    if len(recent_moves) > 5:\n",
    "        recent_moves.pop(0) # 古いデータを削除し、最新5回だけ残す\n",
    "    # 勝敗判定\n",
    "    if ai_choice == player_choice:\n",
    "        result = \"引き分け！\"\n",
    "        draws += 1\n",
    "    elif (ai_choice == \"グー\" and player_choice == \"チョキ\") or (ai_choice == \"チョキ\" and player_choice == \"パー\") or (ai_choice == \"パー\" and player_choice == \"グー\"):\n",
    "        result = \"AIの勝ち！\"\n",
    "        ai_wins += 1\n",
    "    else:\n",
    "        result = \"あなたの勝ち！\"\n",
    "        player_wins += 1\n",
    "    \n",
    "    # 対戦ごとの結果を表示\n",
    "    print(f\"【第{i+1}戦】 AI: {ai_choice} vs あなた: {player_choice} → {result}\")\n",
    "\n",
    "# 最終結果を表示\n",
    "print(\"\\n【最終結果】\")\n",
    "print(f\"AIの勝ち: {ai_wins}回\")\n",
    "print(f\"あなたの勝ち: {player_wins}回\")\n",
    "print(f\"引き分け: {draws}回\")"
   ]
  },
  {
   "cell_type": "code",
   "execution_count": null,
   "id": "6619af14",
   "metadata": {},
   "outputs": [],
   "source": []
  }
 ],
 "metadata": {
  "kernelspec": {
   "display_name": "Python 3",
   "language": "python",
   "name": "python3"
  },
  "language_info": {
   "codemirror_mode": {
    "name": "ipython",
    "version": 3
   },
   "file_extension": ".py",
   "mimetype": "text/x-python",
   "name": "python",
   "nbconvert_exporter": "python",
   "pygments_lexer": "ipython3",
   "version": "3.9.10"
  }
 },
 "nbformat": 4,
 "nbformat_minor": 5
}
