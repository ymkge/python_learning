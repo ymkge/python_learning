{
 "cells": [
  {
   "cell_type": "code",
   "execution_count": null,
   "id": "90eb96f9",
   "metadata": {},
   "outputs": [],
   "source": []
  },
  {
   "cell_type": "markdown",
   "id": "c444d53b",
   "metadata": {},
   "source": [
    "# 1. JANコードのバリデーション関数\n",
    "\n",
    "問題:\n",
    "JANコード（標準タイプ13桁、短縮タイプ8桁）の文字列が有効かどうかを判定する関数 validate_jan_code(jan_code) を作成してください。\n",
    "有効なJANコードは、すべて数字で構成され、長さが13桁または8桁です。チェックデジットの計算までは不要とします。\n",
    "\n",
    "期待される動作例:\n",
    "\n",
    "```Python\n",
    "validate_jan_code(\"4901234567890\") # True (13桁)\n",
    "validate_jan_code(\"1234567\")      # False (7桁)\n",
    "validate_jan_code(\"49012345\")      # True (8桁)\n",
    "validate_jan_code(\"490abcde\")      # False (数字以外を含む)\n",
    "validate_jan_code(\"\")              # False (空文字)\n",
    "```\n"
   ]
  },
  {
   "cell_type": "markdown",
   "id": "66bc2e01",
   "metadata": {},
   "source": [
    "## 回答"
   ]
  },
  {
   "cell_type": "code",
   "execution_count": null,
   "id": "133487e3",
   "metadata": {},
   "outputs": [],
   "source": [
    "def validate_jan_code(jan_code):\n",
    "    if jan_code.isdigit(): # 数字チェック\n",
    "        if len(jan_code) == 8 or len(jan_code) == 13: # 文字列の長さチェック\n",
    "            return True\n",
    "        else:\n",
    "            return False\n",
    "    else:\n",
    "        return False\n"
   ]
  },
  {
   "cell_type": "code",
   "execution_count": 2,
   "id": "b2909591",
   "metadata": {},
   "outputs": [
    {
     "name": "stdout",
     "output_type": "stream",
     "text": [
      "True\n",
      "False\n",
      "True\n",
      "False\n",
      "False\n"
     ]
    }
   ],
   "source": [
    "print(validate_jan_code(\"4901234567890\")) # True (13桁)\n",
    "print(validate_jan_code(\"1234567\"))      # False (7桁)\n",
    "print(validate_jan_code(\"49012345\"))      # True (8桁)\n",
    "print(validate_jan_code(\"490abcde\"))      # False (数字以外を含む)\n",
    "print(validate_jan_code(\"\"))              # False (空文字)\n",
    "\n"
   ]
  },
  {
   "cell_type": "markdown",
   "id": "93c26572",
   "metadata": {},
   "source": [
    "# 練習"
   ]
  },
  {
   "cell_type": "code",
   "execution_count": null,
   "id": "5e060f8c",
   "metadata": {},
   "outputs": [],
   "source": [
    "\n",
    "\n"
   ]
  },
  {
   "cell_type": "markdown",
   "id": "8c0b7280",
   "metadata": {},
   "source": [
    "# 2. 商品データの正規化関数\n",
    "問題:\n",
    "商品名のリストを受け取り、各商品名を正規化する関数 normalize_product_names(names) を作成してください。正規化のルールは以下の通りです。\n",
    "\n",
    "全角英数字および全角スペースを半角に変換する。\n",
    "文字列の先頭と末尾の空白を削除する。\n",
    "大文字・小文字を区別せず、すべて小文字に統一する。\n",
    "期待される動作例:\n",
    "\n",
    "```Python\n",
    "\n",
    "names = [\"　Ｐｒｏｄｕｃｔ　Ａ　\", \"ｐｒｏｄｕｃｔ　Ｂ　\", \"PRODUCT C\"]\n",
    "normalized = normalize_product_names(names)\n",
    "# 期待される出力: ['product a', 'product b', 'product c']\n",
    "```\n"
   ]
  },
  {
   "cell_type": "markdown",
   "id": "30bd7f40",
   "metadata": {},
   "source": [
    "## 回答"
   ]
  },
  {
   "cell_type": "code",
   "execution_count": 3,
   "id": "5cf3a353",
   "metadata": {},
   "outputs": [],
   "source": [
    "import unicodedata\n",
    "\n",
    "def normalize_product_names(names):\n",
    "    normalized_names = []\n",
    "    \n",
    "    for name in names:\n",
    "        # 全角英数字および全角スペースを半角に変換\n",
    "        half_width_name = unicodedata.normalize('NFKC', name)\n",
    "        \n",
    "        # 先頭と末尾の空白を削除し、小文字に変換\n",
    "        normalized_name = half_width_name.strip().lower()\n",
    "        \n",
    "        normalized_names.append(normalized_name)\n",
    "    \n",
    "    return normalized_names"
   ]
  },
  {
   "cell_type": "code",
   "execution_count": 4,
   "id": "ef1b4498",
   "metadata": {},
   "outputs": [
    {
     "name": "stdout",
     "output_type": "stream",
     "text": [
      "['product a', 'product b', 'product c']\n"
     ]
    }
   ],
   "source": [
    "names = [\"　Ｐｒｏｄｕｃｔ　Ａ　\", \"ｐｒｏｄｕｃｔ　Ｂ　\", \"PRODUCT C\"]\n",
    "print(normalize_product_names(names))\n"
   ]
  },
  {
   "cell_type": "markdown",
   "id": "46601df8",
   "metadata": {},
   "source": [
    "# 練習"
   ]
  },
  {
   "cell_type": "code",
   "execution_count": null,
   "id": "d239f837",
   "metadata": {},
   "outputs": [],
   "source": []
  },
  {
   "cell_type": "markdown",
   "id": "9f60af14",
   "metadata": {},
   "source": [
    "# 3. 商品名からのキーワード抽出関数\n",
    "問題:\n",
    "商品名の文字列と、抽出対象のキーワードリストを受け取り、商品名に含まれるキーワードを抽出してリストで返す関数 extract_keywords(product_name, keywords) を作成してください。キーワードの検索は、大文字・小文字を区別しないものとします。\n",
    "\n",
    "期待される動作例:\n",
    "\n",
    "```Python\n",
    "\n",
    "product_name = \"高品質オーガニックコットン Tシャツ Mサイズ ホワイト\"\n",
    "keywords = [\"オーガニック\", \"コットン\", \"リネン\", \"ホワイト\"]\n",
    "extracted = extract_keywords(product_name, keywords)\n",
    "# 期待される出力: ['オーガニック', 'コットン', 'ホワイト'] (順不同でも可)\n",
    "```"
   ]
  },
  {
   "cell_type": "markdown",
   "id": "f0579401",
   "metadata": {},
   "source": [
    "## 回答"
   ]
  },
  {
   "cell_type": "code",
   "execution_count": 3,
   "id": "7d084d9a",
   "metadata": {},
   "outputs": [],
   "source": [
    "def extract_keywords(produce_name, keywords):\n",
    "    # 大文字と小文字の区別をなくす為、小文字で比較する\n",
    "    product_name_lower = product_name.lower()\n",
    "    extracted_keywords = [keyword for keyword in keywords if keyword.lower() in product_name_lower]\n",
    "\n",
    "    return extracted_keywords\n"
   ]
  },
  {
   "cell_type": "code",
   "execution_count": 6,
   "id": "b73bdf04",
   "metadata": {},
   "outputs": [
    {
     "name": "stdout",
     "output_type": "stream",
     "text": [
      "['オーガニック', 'コットン', 'ホワイト']\n"
     ]
    }
   ],
   "source": [
    "product_name = \"高品質オーガニックコットン Tシャツ Mサイズ ホワイト\"\n",
    "keywords = [\"オーガニック\", \"コットン\", \"リネン\", \"ホワイト\"]\n",
    "extracted = extract_keywords(product_name, keywords)\n",
    "print(extracted)\n"
   ]
  },
  {
   "cell_type": "markdown",
   "id": "e4a5b7fa",
   "metadata": {},
   "source": [
    "# 練習"
   ]
  },
  {
   "cell_type": "code",
   "execution_count": null,
   "id": "273e8827",
   "metadata": {},
   "outputs": [],
   "source": []
  },
  {
   "cell_type": "code",
   "execution_count": null,
   "id": "3a1119e0",
   "metadata": {},
   "outputs": [],
   "source": []
  },
  {
   "cell_type": "markdown",
   "id": "abdce371",
   "metadata": {},
   "source": [
    "# 4. 価格文字列からの数値抽出関数\n",
    "問題:\n",
    "価格を表す文字列（例: \"¥1,980 (税込)\", \"2,500円\", \"3000\"）から、数値のみを抽出して整数型で返す関数 extract_price(price_str) を作成してください。通貨記号、カンマ、\"円\"、\"(税込)\"などの文字列は無視するものとします。数値として解釈できない場合は None を返してください。\n",
    "\n",
    "期待される動作例:\n",
    "\n",
    "```Python\n",
    "extract_price(\"¥1,980 (税込)\") # 1980\n",
    "extract_price(\"2,500円\")      # 2500\n",
    "extract_price(\"3000\")         # 3000\n",
    "extract_price(\"特価\")         # None\n",
    "extract_price(\"送料無料\")       # None\n",
    "```"
   ]
  },
  {
   "cell_type": "markdown",
   "id": "08d18654",
   "metadata": {},
   "source": [
    "## 回答"
   ]
  },
  {
   "cell_type": "code",
   "execution_count": 11,
   "id": "841c67ed",
   "metadata": {},
   "outputs": [],
   "source": [
    "import re\n",
    "\n",
    "def extract_price(price_str):\n",
    "    price_number = re.findall(r'\\d+', price_str)\n",
    "    formatted_number = ''.join(price_number)\n",
    "\n",
    "    if formatted_number:\n",
    "        return formatted_number\n",
    "    \n",
    "    return None\n"
   ]
  },
  {
   "cell_type": "code",
   "execution_count": 12,
   "id": "cdd2932c",
   "metadata": {},
   "outputs": [
    {
     "name": "stdout",
     "output_type": "stream",
     "text": [
      "1980\n",
      "2500\n",
      "3000\n",
      "None\n",
      "None\n"
     ]
    }
   ],
   "source": [
    "print(extract_price(\"¥1,980 (税込)\")) # 1980\n",
    "print(extract_price(\"2,500円\"))      # 2500\n",
    "print(extract_price(\"3000\"))         # 3000\n",
    "print(extract_price(\"特価\"))         # None\n",
    "print(extract_price(\"送料無料\"))       # None\n"
   ]
  },
  {
   "cell_type": "markdown",
   "id": "2eee32fa",
   "metadata": {},
   "source": [
    "# 練習"
   ]
  },
  {
   "cell_type": "code",
   "execution_count": 7,
   "id": "4a4f76e6",
   "metadata": {},
   "outputs": [],
   "source": [
    "import re\n",
    "\n",
    "def ep(p):\n",
    "    pn = re.findall(r'\\d+', p)\n",
    "    f_num = ''.join(pn)\n",
    "\n",
    "    if f_num:\n",
    "        return f_num\n",
    "    \n",
    "    return None\n",
    "\n"
   ]
  },
  {
   "cell_type": "code",
   "execution_count": 10,
   "id": "3f18dca0",
   "metadata": {},
   "outputs": [
    {
     "name": "stdout",
     "output_type": "stream",
     "text": [
      "1980\n",
      "2500\n",
      "3000\n",
      "None\n",
      "None\n"
     ]
    }
   ],
   "source": [
    "print(ep(\"¥1,980 (税込)\")) # 1980\n",
    "print(ep(\"2,500円\"))      # 2500\n",
    "print(ep(\"3000\"))         # 3000\n",
    "print(ep(\"特価\"))         # None\n",
    "print(ep(\"送料無料\"))       # None\n"
   ]
  },
  {
   "cell_type": "markdown",
   "id": "822b353f",
   "metadata": {},
   "source": [
    "# 5. 商品辞書のリストから特定キーの値を集計する関数\n",
    "問題:\n",
    "商品の情報が格納された辞書のリストと、集計対象のキー名を受け取り、そのキーに対応する値の合計を返す関数 sum_values_from_dict_list(data_list, key) を作成してください。対象のキーが存在しない辞書や、値が数値でない場合はスキップ（0として加算）してください。\n",
    "\n",
    "期待される動作例:\n",
    "\n",
    "```Python\n",
    "data = [\n",
    "    {\"name\": \"商品A\", \"price\": 1000, \"stock\": 10},\n",
    "    {\"name\": \"商品B\", \"price\": \"N/A\", \"stock\": 5}, # priceが数値でない\n",
    "    {\"name\": \"商品C\", \"stock\": 20},             # priceキーがない\n",
    "    {\"name\": \"商品D\", \"price\": 1500, \"stock\": 0}\n",
    "]\n",
    "total_price = sum_values_from_dict_list(data, \"price\")\n",
    "# 期待される出力: 2500 (1000 + 0 + 0 + 1500)\n",
    "total_stock = sum_values_from_dict_list(data, \"stock\")\n",
    "# 期待される出力: 35 (10 + 5 + 20 + 0)\n",
    "```"
   ]
  },
  {
   "cell_type": "markdown",
   "id": "1bae06e4",
   "metadata": {},
   "source": [
    "## 回答"
   ]
  },
  {
   "cell_type": "code",
   "execution_count": 13,
   "id": "ddfb1ade",
   "metadata": {},
   "outputs": [],
   "source": [
    "def sum_values_from_dict_list(data_list, key):\n",
    "\n",
    "    total = 0\n",
    "    for data in data_list:\n",
    "        if key in data and isinstance(data[key], (int, float)):\n",
    "            total += data[key]\n",
    "    return total\n",
    "    \n",
    "    "
   ]
  },
  {
   "cell_type": "code",
   "execution_count": 14,
   "id": "343b07d5",
   "metadata": {},
   "outputs": [
    {
     "data": {
      "text/plain": [
       "2500"
      ]
     },
     "execution_count": 14,
     "metadata": {},
     "output_type": "execute_result"
    }
   ],
   "source": [
    "data = [\n",
    "    {\"name\": \"商品A\", \"price\": 1000, \"stock\": 10},\n",
    "    {\"name\": \"商品B\", \"price\": \"N/A\", \"stock\": 5}, # priceが数値でない\n",
    "    {\"name\": \"商品C\", \"stock\": 20},             # priceキーがない\n",
    "    {\"name\": \"商品D\", \"price\": 1500, \"stock\": 0}\n",
    "]\n",
    "total_price = sum_values_from_dict_list(data, \"price\")\n",
    "total_price\n",
    "# 期待される出力: 2500 (1000 + 0 + 0 + 1500)"
   ]
  },
  {
   "cell_type": "code",
   "execution_count": 15,
   "id": "9722a1c8",
   "metadata": {},
   "outputs": [
    {
     "data": {
      "text/plain": [
       "35"
      ]
     },
     "execution_count": 15,
     "metadata": {},
     "output_type": "execute_result"
    }
   ],
   "source": [
    "total_stock = sum_values_from_dict_list(data, \"stock\")\n",
    "total_stock\n",
    "# 期待される出力: 35 (10 + 5 + 20 + 0)"
   ]
  },
  {
   "cell_type": "code",
   "execution_count": null,
   "id": "50bcc157",
   "metadata": {},
   "outputs": [],
   "source": [
    "# isinstanceのチェックを入れない場合どうなるか？\n",
    "def sum_values_from_dict_list_test(data_list, key):\n",
    "\n",
    "    total = 0\n",
    "    for data in data_list:\n",
    "        if key in data:\n",
    "            total += data[key]\n",
    "    return total"
   ]
  },
  {
   "cell_type": "code",
   "execution_count": null,
   "id": "a6224479",
   "metadata": {},
   "outputs": [
    {
     "ename": "TypeError",
     "evalue": "unsupported operand type(s) for +=: 'int' and 'str'",
     "output_type": "error",
     "traceback": [
      "\u001b[0;31m---------------------------------------------------------------------------\u001b[0m",
      "\u001b[0;31mTypeError\u001b[0m                                 Traceback (most recent call last)",
      "Input \u001b[0;32mIn [2]\u001b[0m, in \u001b[0;36m<cell line: 7>\u001b[0;34m()\u001b[0m\n\u001b[1;32m      1\u001b[0m data \u001b[38;5;241m=\u001b[39m [\n\u001b[1;32m      2\u001b[0m     {\u001b[38;5;124m\"\u001b[39m\u001b[38;5;124mname\u001b[39m\u001b[38;5;124m\"\u001b[39m: \u001b[38;5;124m\"\u001b[39m\u001b[38;5;124m商品A\u001b[39m\u001b[38;5;124m\"\u001b[39m, \u001b[38;5;124m\"\u001b[39m\u001b[38;5;124mprice\u001b[39m\u001b[38;5;124m\"\u001b[39m: \u001b[38;5;241m1000\u001b[39m, \u001b[38;5;124m\"\u001b[39m\u001b[38;5;124mstock\u001b[39m\u001b[38;5;124m\"\u001b[39m: \u001b[38;5;241m10\u001b[39m},\n\u001b[1;32m      3\u001b[0m     {\u001b[38;5;124m\"\u001b[39m\u001b[38;5;124mname\u001b[39m\u001b[38;5;124m\"\u001b[39m: \u001b[38;5;124m\"\u001b[39m\u001b[38;5;124m商品B\u001b[39m\u001b[38;5;124m\"\u001b[39m, \u001b[38;5;124m\"\u001b[39m\u001b[38;5;124mprice\u001b[39m\u001b[38;5;124m\"\u001b[39m: \u001b[38;5;124m\"\u001b[39m\u001b[38;5;124mN/A\u001b[39m\u001b[38;5;124m\"\u001b[39m, \u001b[38;5;124m\"\u001b[39m\u001b[38;5;124mstock\u001b[39m\u001b[38;5;124m\"\u001b[39m: \u001b[38;5;241m5\u001b[39m}, \u001b[38;5;66;03m# priceが数値でない\u001b[39;00m\n\u001b[1;32m      4\u001b[0m     {\u001b[38;5;124m\"\u001b[39m\u001b[38;5;124mname\u001b[39m\u001b[38;5;124m\"\u001b[39m: \u001b[38;5;124m\"\u001b[39m\u001b[38;5;124m商品C\u001b[39m\u001b[38;5;124m\"\u001b[39m, \u001b[38;5;124m\"\u001b[39m\u001b[38;5;124mstock\u001b[39m\u001b[38;5;124m\"\u001b[39m: \u001b[38;5;241m20\u001b[39m},             \u001b[38;5;66;03m# priceキーがない\u001b[39;00m\n\u001b[1;32m      5\u001b[0m     {\u001b[38;5;124m\"\u001b[39m\u001b[38;5;124mname\u001b[39m\u001b[38;5;124m\"\u001b[39m: \u001b[38;5;124m\"\u001b[39m\u001b[38;5;124m商品D\u001b[39m\u001b[38;5;124m\"\u001b[39m, \u001b[38;5;124m\"\u001b[39m\u001b[38;5;124mprice\u001b[39m\u001b[38;5;124m\"\u001b[39m: \u001b[38;5;241m1500\u001b[39m, \u001b[38;5;124m\"\u001b[39m\u001b[38;5;124mstock\u001b[39m\u001b[38;5;124m\"\u001b[39m: \u001b[38;5;241m0\u001b[39m}\n\u001b[1;32m      6\u001b[0m ]\n\u001b[0;32m----> 7\u001b[0m total_price \u001b[38;5;241m=\u001b[39m \u001b[43msum_values_from_dict_list_test\u001b[49m\u001b[43m(\u001b[49m\u001b[43mdata\u001b[49m\u001b[43m,\u001b[49m\u001b[43m \u001b[49m\u001b[38;5;124;43m\"\u001b[39;49m\u001b[38;5;124;43mprice\u001b[39;49m\u001b[38;5;124;43m\"\u001b[39;49m\u001b[43m)\u001b[49m\n\u001b[1;32m      8\u001b[0m total_price\n",
      "Input \u001b[0;32mIn [1]\u001b[0m, in \u001b[0;36msum_values_from_dict_list_test\u001b[0;34m(data_list, key)\u001b[0m\n\u001b[1;32m      4\u001b[0m \u001b[38;5;28;01mfor\u001b[39;00m data \u001b[38;5;129;01min\u001b[39;00m data_list:\n\u001b[1;32m      5\u001b[0m     \u001b[38;5;28;01mif\u001b[39;00m key \u001b[38;5;129;01min\u001b[39;00m data:\n\u001b[0;32m----> 6\u001b[0m         total \u001b[38;5;241m+\u001b[39m\u001b[38;5;241m=\u001b[39m data[key]\n\u001b[1;32m      7\u001b[0m \u001b[38;5;28;01mreturn\u001b[39;00m total\n",
      "\u001b[0;31mTypeError\u001b[0m: unsupported operand type(s) for +=: 'int' and 'str'"
     ]
    }
   ],
   "source": [
    "data = [\n",
    "    {\"name\": \"商品A\", \"price\": 1000, \"stock\": 10},\n",
    "    {\"name\": \"商品B\", \"price\": \"N/A\", \"stock\": 5}, # priceが数値でない\n",
    "    {\"name\": \"商品C\", \"stock\": 20},             # priceキーがない\n",
    "    {\"name\": \"商品D\", \"price\": 1500, \"stock\": 0}\n",
    "]\n",
    "\n",
    "# エラーが発生して処理できない。TypeError: unsupported operand type(s) for +=: 'int' and 'str'\n",
    "total_price = sum_values_from_dict_list_test(data, \"price\")\n",
    "total_price"
   ]
  },
  {
   "cell_type": "markdown",
   "id": "481fe19b",
   "metadata": {},
   "source": [
    "# 練習"
   ]
  },
  {
   "cell_type": "code",
   "execution_count": null,
   "id": "99aeab05",
   "metadata": {},
   "outputs": [],
   "source": []
  },
  {
   "cell_type": "markdown",
   "id": "a8fcda46",
   "metadata": {},
   "source": [
    "# 6. 商品データの名寄せ（簡易版）\n",
    "問題:\n",
    "2つの商品名文字列を受け取り、それらが類似しているかどうかを判定する簡易的な関数 are_names_similar(name1, name2, threshold=0.7) を作成してください。\n",
    "類似度の計算方法として、ここでは「共通する単語の割合」を用います。\n",
    "\n",
    "各商品名をスペースで単語に分割します（句読点は無視して良い）。\n",
    "両方の名前に含まれる共通の単語（大文字・小文字は区別しない）の数を数えます。\n",
    "共通単語数を、両方の名前の総単語数のうち長い方で割った値を類似度とします。\n",
    "類似度が指定された threshold 以上であれば True、そうでなければ False を返します。\n",
    "期待される動作例:\n",
    "\n",
    "```Python\n",
    "are_names_similar(\"美味しいリンゴ 青森産\", \"青森産 美味しいリンゴ\") # True\n",
    "are_names_similar(\"美味しいミカン 和歌山産\", \"美味しいリンゴ 青森産\") # False (共通単語が少ない)\n",
    "are_names_similar(\"iPhone 15 Pro 256GB\", \"iPhone 15 Pro Max 512GB\", threshold=0.6) # True (iPhone, 15, Proが共通)\n",
    "```\n"
   ]
  },
  {
   "cell_type": "markdown",
   "id": "84b01725",
   "metadata": {},
   "source": []
  },
  {
   "cell_type": "markdown",
   "id": "65cba7d4",
   "metadata": {},
   "source": [
    "## 回答"
   ]
  },
  {
   "cell_type": "code",
   "execution_count": 2,
   "id": "19cba5f9",
   "metadata": {},
   "outputs": [],
   "source": [
    "import string\n",
    "\n",
    "def are_names_similar(name1, name2, threshold=0.7) -> bool:\n",
    "\n",
    "    def preprocess_name(name_str: str) -> list[str]:\n",
    "        \n",
    "        processed_name = name_str.lower()\n",
    "        \n",
    "        translator = str.maketrans('', '', string.punctuation)\n",
    "        processed_name = processed_name.translate(translator)\n",
    "\n",
    "        words = processed_name.split()\n",
    "        return words\n",
    "    \n",
    "    words_list1 = preprocess_name(name1)\n",
    "    words_list2 = preprocess_name(name2)\n",
    "\n",
    "    set_words1 = set(words_list1)\n",
    "    set_words2 = set(words_list2)\n",
    "\n",
    "    common_wrods = set_words1.intersection(set_words2)\n",
    "    num_common_words = len(common_wrods)\n",
    "\n",
    "    len1 = len(words_list1)\n",
    "    len2 = len(words_list2)\n",
    "\n",
    "    denominator = max(len1, len2)\n",
    "\n",
    "    if denominator == 0:\n",
    "        similarity = 0.0\n",
    "    else:\n",
    "        similarity = num_common_words / denominator\n",
    "\n",
    "    return similarity >= threshold\n",
    "\n"
   ]
  },
  {
   "cell_type": "code",
   "execution_count": 3,
   "id": "19ca115f",
   "metadata": {},
   "outputs": [
    {
     "name": "stdout",
     "output_type": "stream",
     "text": [
      "True\n",
      "False\n",
      "True\n"
     ]
    }
   ],
   "source": [
    "print(are_names_similar(\"美味しいリンゴ 青森産\", \"青森産 美味しいリンゴ\")) # True\n",
    "print(are_names_similar(\"美味しいミカン 和歌山産\", \"美味しいリンゴ 青森産\")) # False (共通単語が少ない)\n",
    "print(are_names_similar(\"iPhone 15 Pro 256GB\", \"iPhone 15 Pro Max 512GB\", threshold=0.6)) # True (iPhone, 15, Proが共通)\n"
   ]
  },
  {
   "cell_type": "markdown",
   "id": "f35c433f",
   "metadata": {},
   "source": [
    "# 練習"
   ]
  },
  {
   "cell_type": "code",
   "execution_count": null,
   "id": "43da3768",
   "metadata": {},
   "outputs": [],
   "source": []
  },
  {
   "cell_type": "markdown",
   "id": "f13afa4e",
   "metadata": {},
   "source": [
    "# 7. APIレスポンス風JSONデータからの情報抽出\n",
    "問題:\n",
    "以下のような、商品情報を含むAPIレスポンスを模したJSON文字列が与えられます。このJSON文字列をパースし、各商品の name と price （amount の値）をタプルのリストとして返す関数 extract_product_info_from_json(json_string) を作成してください。 price 情報が存在しない商品はスキップしてください。\n",
    "\n",
    "JSON文字列の例:\n",
    "\n",
    "```JSON\n",
    "{\n",
    "  \"count\": 2,\n",
    "  \"products\": [\n",
    "    {\n",
    "      \"id\": \"A001\",\n",
    "      \"name\": \"スマートウォッチ XYZ\",\n",
    "      \"details\": {\"category\": \"ウェアラブル\", \"brand\": \"TechCo\"},\n",
    "      \"price\": {\"amount\": 15000, \"currency\": \"JPY\"}\n",
    "    },\n",
    "    {\n",
    "      \"id\": \"B002\",\n",
    "      \"name\": \"ワイヤレスイヤホン Pro\",\n",
    "      \"details\": {\"category\": \"オーディオ\", \"brand\": \"SoundMax\"},\n",
    "      \"price\": null\n",
    "    },\n",
    "    {\n",
    "      \"id\": \"C003\",\n",
    "      \"name\": \"コーヒーメーカー Deluxe\",\n",
    "      \"details\": {\"category\": \"家電\", \"brand\": \"HomeGoods\"},\n",
    "      \"price\": {\"amount\": 8000, \"currency\": \"JPY\"}\n",
    "    }\n",
    "  ]\n",
    "}\n",
    "```\n",
    "\n",
    "期待される動作例:\n",
    "\n",
    "```Python\n",
    "json_data = \"\"\"\n",
    "{\n",
    "  \"count\": 3,\n",
    "  \"products\": [\n",
    "    {\"id\": \"A001\", \"name\": \"スマートウォッチ XYZ\", \"details\": {\"category\": \"ウェアラブル\"}, \"price\": {\"amount\": 15000, \"currency\": \"JPY\"}},\n",
    "    {\"id\": \"B002\", \"name\": \"ワイヤレスイヤホン Pro\", \"details\": {\"category\": \"オーディオ\"}, \"price\": null},\n",
    "    {\"id\": \"C003\", \"name\": \"コーヒーメーカー Deluxe\", \"details\": {\"category\": \"家電\"}, \"price\": {\"amount\": 8000, \"currency\": \"JPY\"}}\n",
    "  ]\n",
    "}\n",
    "\"\"\"\n",
    "info = extract_product_info_from_json(json_data)\n",
    "# 期待される出力: [('スマートウォッチ XYZ', 15000), ('コーヒーメーカー Deluxe', 8000)] (順不同でも可)\n",
    "```"
   ]
  },
  {
   "cell_type": "markdown",
   "id": "2193161c",
   "metadata": {},
   "source": [
    "## 回答"
   ]
  },
  {
   "cell_type": "code",
   "execution_count": null,
   "id": "07723190",
   "metadata": {},
   "outputs": [],
   "source": [
    "import json\n",
    "\n",
    "def extract_product_info_from_json(json_string):\n",
    "    \"\"\"\n",
    "    JSON文字列から商品名と価格情報（amount）を抽出し、タプルのリストとして返します。\n",
    "    price情報が存在しない商品、またはprice.amountが存在しない/nullの商品はスキップされます。\n",
    "    nameが存在しない/nullの商品もスキップされます。\n",
    "\n",
    "    Args:\n",
    "        json_string (str): 商品情報を含むJSON文字列。\n",
    "\n",
    "    Returns:\n",
    "        list: 各商品の (name, price) タプルを含むリスト。\n",
    "              price は price.amount の値です。\n",
    "              不正なJSON文字列の場合は空のリストを返します。\n",
    "    \"\"\"\n",
    "    try:\n",
    "        data = json.loads(json_string)\n",
    "    except json.JSONDecodeError:\n",
    "        # 不正なJSON文字列が渡された場合は空のリストを返す\n",
    "        # デバッグのためにエラーメッセージを出力しても良いでしょう:\n",
    "        # print(f\"Error: Invalid JSON string provided. Content: '{json_string[:100]}...'\")\n",
    "        return []\n",
    "\n",
    "    extracted_products = []\n",
    "\n",
    "    # 'products' キーが存在し、かつその値がリストであることを確認\n",
    "    # data.get(\"products\") は products がなければ None を返す\n",
    "    products_list = data.get(\"products\")\n",
    "    if not isinstance(products_list, list):\n",
    "        return extracted_products\n",
    "\n",
    "    for product in products_list:\n",
    "        # product が辞書型であることを念のため確認 (通常はJSONの配列要素なら辞書)\n",
    "        if not isinstance(product, dict):\n",
    "            continue\n",
    "\n",
    "        # 商品名(name)を取得し、存在し、かつNoneでない(空文字列でもない方が良い場合もある)ことを確認\n",
    "        product_name = product.get(\"name\")\n",
    "        if product_name is None: # nameがない、またはnameがjsonでnullの場合はスキップ\n",
    "            continue\n",
    "\n",
    "        # 'price'情報を取得\n",
    "        price_info = product.get(\"price\")\n",
    "\n",
    "        # price_info が有効な辞書であることを確認\n",
    "        if isinstance(price_info, dict):\n",
    "            # price_info辞書から 'amount' の値を取得\n",
    "            product_price_amount = price_info.get(\"amount\")\n",
    "            \n",
    "            # amount が存在し、かつ None でないことを確認\n",
    "            if product_price_amount is not None:\n",
    "                # (オプション) amountが数値であることも確認する場合:\n",
    "                # if isinstance(product_price_amount, (int, float)):\n",
    "                #     extracted_products.append((product_name, product_price_amount))\n",
    "                # else:\n",
    "                #     print(f\"Debug: Skipping product '{product_name}' because amount is not a number: {product_price_amount}\")\n",
    "                \n",
    "                # 問題文の要件では型チェックまでは不要なので、Noneでなければ追加\n",
    "                extracted_products.append((product_name, product_price_amount))\n",
    "            # else:\n",
    "                # print(f\"Debug: Skipping product '{product_name}' due to missing or null amount.\") # デバッグ用\n",
    "        # else: # price_info が辞書でない場合 (例: priceがnull, priceキーがない場合はproduct.getでNoneになる)\n",
    "            # print(f\"Debug: Skipping product '{product_name}' due to missing or invalid price_info.\") # デバッグ用\n",
    "            \n",
    "    return extracted_products"
   ]
  },
  {
   "cell_type": "code",
   "execution_count": 27,
   "id": "b1b6b47d",
   "metadata": {},
   "outputs": [
    {
     "name": "stdout",
     "output_type": "stream",
     "text": [
      "[('スマートウォッチ XYZ', 15000), ('コーヒーメーカー Deluxe', 8000)]\n"
     ]
    }
   ],
   "source": [
    "json_data = \"\"\"\n",
    "{\n",
    "  \"count\": 3,\n",
    "  \"products\": [\n",
    "    {\"id\": \"A001\", \"name\": \"スマートウォッチ XYZ\", \"details\": {\"category\": \"ウェアラブル\"}, \"price\": {\"amount\": 15000, \"currency\": \"JPY\"}},\n",
    "    {\"id\": \"B002\", \"name\": \"ワイヤレスイヤホン Pro\", \"details\": {\"category\": \"オーディオ\"}, \"price\": null},\n",
    "    {\"id\": \"C003\", \"name\": \"コーヒーメーカー Deluxe\", \"details\": {\"category\": \"家電\"}, \"price\": {\"amount\": 8000, \"currency\": \"JPY\"}}\n",
    "  ]\n",
    "}\n",
    "\"\"\"\n",
    "info = extract_product_info_from_json(json_data)\n",
    "print(info)"
   ]
  },
  {
   "cell_type": "markdown",
   "id": "c38fd774",
   "metadata": {},
   "source": [
    "# 練習"
   ]
  },
  {
   "cell_type": "code",
   "execution_count": 28,
   "id": "8bf56454",
   "metadata": {},
   "outputs": [
    {
     "name": "stdout",
     "output_type": "stream",
     "text": [
      "More cases test: [('スマートウォッチ XYZ', 15000), ('コーヒーメーカー Deluxe', 8000)]\n"
     ]
    }
   ],
   "source": [
    "# --- より複雑なケースを含むテスト ---\n",
    "json_example_string_more_cases = \"\"\"\n",
    "{\n",
    "  \"count\": 7,\n",
    "  \"products\": [\n",
    "    {\"id\": \"A001\", \"name\": \"スマートウォッチ XYZ\", \"details\": {\"category\": \"ウェアラブル\"}, \"price\": {\"amount\": 15000, \"currency\": \"JPY\"}},\n",
    "    {\"id\": \"B002\", \"name\": \"ワイヤレスイヤホン Pro\", \"details\": {\"category\": \"オーディオ\"}, \"price\": null},\n",
    "    {\"id\": \"C003\", \"name\": \"コーヒーメーカー Deluxe\", \"details\": {\"category\": \"家電\"}, \"price\": {\"amount\": 8000, \"currency\": \"JPY\"}},\n",
    "    {\"id\": \"D004\", \"name\": \"USBハブ\", \"price\": {\"currency\": \"JPY\"}}, \n",
    "    {\"id\": \"E005\", \"name\": \"モバイルバッテリー\", \"price\": {\"amount\": null, \"currency\": \"USD\"}},\n",
    "    {\"id\": \"F006\", \"name\": \"キーボード\"},\n",
    "    {\"id\": \"G007\", \"price\": {\"amount\": 500, \"currency\": \"JPY\"}},\n",
    "    {\"id\": \"H008\", \"name\": null, \"price\": {\"amount\": 100, \"currency\": \"JPY\"}}\n",
    "  ]\n",
    "}\n",
    "\"\"\"\n",
    "info_more_cases = extract_product_info_from_json(json_example_string_more_cases)\n",
    "print(f\"More cases test: {info_more_cases}\")\n"
   ]
  },
  {
   "cell_type": "markdown",
   "id": "c88acb95",
   "metadata": {},
   "source": [
    "# 8. 商品説明文からの特徴タグ生成\n",
    "問題:\n",
    "商品説明文の文字列と、特徴語のリストを受け取り、商品説明文に含まれる特徴語をタグとして抽出する関数 generate_feature_tags(description, feature_words) を作成してください。抽出するタグは重複せず、大文字・小文字を区別しないものとします。\n",
    "\n",
    "期待される動作例:\n",
    "\n",
    "```Python\n",
    "\n",
    "description = \"この最新型スマートフォンは、防水機能と大容量バッテリーが特徴です。高速充電にも対応し、カメラ性能も向上しました。防水設計なので安心です。\"\n",
    "feature_words = [\"防水\", \"大容量バッテリー\", \"高速充電\", \"カメラ\", \"軽量\"]\n",
    "tags = generate_feature_tags(description, feature_words)\n",
    "# 期待される出力: {'防水', '大容量バッテリー', '高速充電', 'カメラ'} (セット型、順不同)\n",
    "````"
   ]
  },
  {
   "cell_type": "markdown",
   "id": "e98a2f33",
   "metadata": {},
   "source": [
    "## 回答"
   ]
  },
  {
   "cell_type": "code",
   "execution_count": 4,
   "id": "44af5a2a",
   "metadata": {},
   "outputs": [],
   "source": [
    "def generate_feature_tags(description: str, feature_words: list) -> set:\n",
    "    \"\"\"\n",
    "    商品説明文に含まれる特徴語をタグとして抽出し、重複を排除したセットで返します。\n",
    "    大文字・小文字を区別しません。\n",
    "\n",
    "    Args:\n",
    "        description (str): 商品説明文の文字列。\n",
    "        feature_words (list): 特徴語のリスト。\n",
    "\n",
    "    Returns:\n",
    "        set: 抽出された特徴語のセット (順不同)。\n",
    "    \"\"\"\n",
    "    tags = set()\n",
    "    description_lower = description.lower()  # 大文字・小文字を区別しないために小文字に変換\n",
    "\n",
    "    for word in feature_words:\n",
    "        word_lower = word.lower()  # 特徴語も小文字に変換\n",
    "        if word_lower in description_lower:\n",
    "            tags.add(word)  # 元の単語をタグとして追加（大文字小文字を区別しないために、検索は小文字で行い、結果は元の形で追加する）\n",
    "\n",
    "    return tags"
   ]
  },
  {
   "cell_type": "code",
   "execution_count": 5,
   "id": "75027982",
   "metadata": {},
   "outputs": [
    {
     "name": "stdout",
     "output_type": "stream",
     "text": [
      "{'カメラ', '大容量バッテリー', '防水', '高速充電'}\n"
     ]
    }
   ],
   "source": [
    "description = \"この最新型スマートフォンは、防水機能と大容量バッテリーが特徴です。高速充電にも対応し、カメラ性能も向上しました。防水設計なので安心です。\"\n",
    "feature_words = [\"防水\", \"大容量バッテリー\", \"高速充電\", \"カメラ\", \"軽量\"]\n",
    "tags = generate_feature_tags(description, feature_words)\n",
    "\n",
    "print(tags)\n"
   ]
  },
  {
   "cell_type": "markdown",
   "id": "758ed2dd",
   "metadata": {},
   "source": [
    "# 練習"
   ]
  },
  {
   "cell_type": "code",
   "execution_count": null,
   "id": "56836857",
   "metadata": {},
   "outputs": [],
   "source": []
  },
  {
   "cell_type": "markdown",
   "id": "fd0da0b0",
   "metadata": {},
   "source": [
    "# 9. 在庫数に基づく商品ステータス判定\n",
    "問題:\n",
    "商品名と現在の在庫数を引数に取り、在庫状況に応じたステータス文字列を返す関数 get_product_status(product_name, stock_count) を作成してください。\n",
    "\n",
    "在庫数が0の場合: \"{商品名} は在庫切れです\"\n",
    "在庫数が1以上10以下の場合: \"{商品名} は残りわずかです (残{在庫数}点)\"\n",
    "在庫数が10より多い場合: \"{商品名} は在庫があります\"\n",
    "期待される動作例:\n",
    "\n",
    "```Python\n",
    "get_product_status(\"高機能マウス\", 0)   # \"高機能マウス は在庫切れです\"\n",
    "get_product_status(\"静音キーボード\", 5)  # \"静音キーボード は残りわずかです (残5点)\"\n",
    "get_product_status(\"27インチモニター\", 50) # \"27インチモニター は在庫があります\"\n",
    "```\n"
   ]
  },
  {
   "cell_type": "markdown",
   "id": "690a3655",
   "metadata": {},
   "source": [
    "## 回答"
   ]
  },
  {
   "cell_type": "code",
   "execution_count": 9,
   "id": "8f19d8fa",
   "metadata": {},
   "outputs": [],
   "source": [
    "def get_product_status(product_name: str, stock_count: int):\n",
    "    if stock_count == 0:\n",
    "        return f'{product_name} は在庫切れです'\n",
    "    elif stock_count > 0 and stock_count < 11:\n",
    "        return f'{product_name} は残りわずかです(残{stock_count}点)'\n",
    "    else:\n",
    "        return f'{product_name} は在庫があります'\n"
   ]
  },
  {
   "cell_type": "code",
   "execution_count": 11,
   "id": "1ed71c51",
   "metadata": {},
   "outputs": [
    {
     "name": "stdout",
     "output_type": "stream",
     "text": [
      "高機能マウス は在庫切れです\n",
      "静音キーボード は残りわずかです(残5点)\n",
      "27インチモニター は在庫があります\n"
     ]
    }
   ],
   "source": [
    "result = get_product_status('高機能マウス', 0)\n",
    "print(result)\n",
    "\n",
    "result = get_product_status('静音キーボード', 5)\n",
    "print(result)\n",
    "\n",
    "result = get_product_status('27インチモニター', 50)\n",
    "print(result)"
   ]
  },
  {
   "cell_type": "markdown",
   "id": "d548d198",
   "metadata": {},
   "source": [
    "# 練習"
   ]
  },
  {
   "cell_type": "code",
   "execution_count": null,
   "id": "122a23fc",
   "metadata": {},
   "outputs": [],
   "source": []
  },
  {
   "cell_type": "markdown",
   "id": "4ee8b2b0",
   "metadata": {},
   "source": [
    "# 10. 複数ECサイトの商品データ統合（簡易版）\n",
    "問題:\n",
    "異なるECサイトから収集した商品データのリスト（各リストは商品辞書のリスト）を複数受け取り、product_id をキーとしてデータをマージする関数 merge_product_data(*site_data_lists) を作成してください。\n",
    "各商品辞書は product_id（必須）とその他の情報（例: price, name, source_site）を含みます。\n",
    "マージのルールは以下の通りです。\n",
    "\n",
    "同じ product_id の商品が見つかった場合、後から処理されるリストの情報で上書きします（価格など）。\n",
    "ただし、source_site の情報はリストとして追記していくものとします（どのサイトでその商品が見つかったかを知るため）。\n",
    "最終的に、統合された商品データ（product_id ごとに1つの辞書）のリストを返します。\n",
    "期待される動作例:\n",
    "\n",
    "```Python\n",
    "site_a_data = [\n",
    "    {\"product_id\": \"101\", \"name\": \"商品X (A)\", \"price\": 1000, \"source_site\": \"SiteA\"},\n",
    "    {\"product_id\": \"102\", \"name\": \"商品Y (A)\", \"price\": 1500, \"source_site\": \"SiteA\"}\n",
    "]\n",
    "site_b_data = [\n",
    "    {\"product_id\": \"101\", \"name\": \"商品X (B)\", \"price\": 980, \"stock\": 10, \"source_site\": \"SiteB\"}, # nameとpriceが更新される\n",
    "    {\"product_id\": \"103\", \"name\": \"商品Z (B)\", \"price\": 2000, \"source_site\": \"SiteB\"}\n",
    "]\n",
    "site_c_data = [\n",
    "    {\"product_id\": \"101\", \"source_site\": \"SiteC\"}, # priceはSiteBのまま、source_siteにSiteCが追加\n",
    "    {\"product_id\": \"102\", \"price\": 1450, \"source_site\": \"SiteC\"}\n",
    "]\n",
    "\n",
    "merged_data = merge_product_data(site_a_data, site_b_data, site_c_data)\n",
    "# merged_data の期待される内容 (順不同、内部のsource_siteのリストも順不同で可):\n",
    "# [\n",
    "#   {'product_id': '101', 'name': '商品X (B)', 'price': 980, 'stock': 10, 'source_site': ['SiteA', 'SiteB', 'SiteC']},\n",
    "#   {'product_id': '102', 'name': '商品Y (A)', 'price': 1450, 'source_site': ['SiteA', 'SiteC']},\n",
    "#   {'product_id': '103', 'name': '商品Z (B)', 'price': 2000, 'source_site': ['SiteB']}\n",
    "# ]\n",
    "```"
   ]
  },
  {
   "cell_type": "markdown",
   "id": "abce1af7",
   "metadata": {},
   "source": [
    "## 回答"
   ]
  },
  {
   "cell_type": "code",
   "execution_count": 10,
   "id": "55e27bb9",
   "metadata": {},
   "outputs": [],
   "source": [
    "def merge_product_data(*site_data_lists):\n",
    "    \"\"\"\n",
    "    複数のECサイトから収集した商品データのリストをマージする\n",
    "\n",
    "    args:\n",
    "        *site_data_lists: 商品辞書のリストを可変長引数として受け取る\n",
    "        各商品辞書は、product_id(必須)とその他の情報を含みます\n",
    "    Returns:\n",
    "        list: 統合された商品データ（product_id ごとに1つの辞書）のリスト\n",
    "\n",
    "    \"\"\"\n",
    "    \n",
    "    merged_products = {} # product_id をキーとした、マージされた商品辞書\n",
    "\n",
    "    for site_date_list in site_data_lists:\n",
    "        for product_item in site_date_list:\n",
    "            product_id = product_item.get(\"product_id\")\n",
    "            if not product_id:\n",
    "                # product_id がないデータはスキップまたはエラー出力する\n",
    "                # print(f\"エラー: product_idが入っていないデータがあります: {product_id}\")\n",
    "                continue\n",
    "\n",
    "            current_item_source_site = product_item.get(\"source_site\")\n",
    "\n",
    "            if product_id not in merged_products:\n",
    "                # product_idが初めて出現する場合は、新しいエントリとして追加、入力辞書はそのままセット\n",
    "                new_entry = product_item.copy()\n",
    "                if current_item_source_site:\n",
    "                    new_entry[\"source_site\"] = [current_item_source_site]\n",
    "                else:\n",
    "                    # source_siteがない場合(通常あり得ないが念の為)\n",
    "                    new_entry[\"source_site\"] = []\n",
    "                merged_products[product_id] = new_entry\n",
    "            else:\n",
    "                    # 既存のproduct_idの場合情報を更新\n",
    "                existing_product = merged_products[product_id]\n",
    "\n",
    "                # source_site以外の情報を上書き\n",
    "                for key, value in product_item.items():\n",
    "                    if key != \"source_site\":\n",
    "                        existing_product[key] = value\n",
    "\n",
    "                # source_site情報をリストに追記(重複は避ける)\n",
    "                if current_item_source_site:\n",
    "                    if not isinstance(existing_product.get(\"source_site\"), list):\n",
    "                        existing_product[\"source_site\"] = []\n",
    "\n",
    "                    if current_item_source_site not in existing_product[\"source_site\"]:\n",
    "                        existing_product[\"source_site\"].append(current_item_source_site)\n",
    "\n",
    "    # 辞書の値をリストとして返す\n",
    "    return list(merged_products.values())\n",
    "\n",
    "\n"
   ]
  },
  {
   "cell_type": "code",
   "execution_count": 11,
   "id": "d9da8827",
   "metadata": {},
   "outputs": [
    {
     "data": {
      "text/plain": [
       "[{'product_id': '101',\n",
       "  'name': '商品X (B)',\n",
       "  'price': 980,\n",
       "  'source_site': ['SiteA', 'SiteB', 'SiteC'],\n",
       "  'stock': 10},\n",
       " {'product_id': '102',\n",
       "  'name': '商品Y (A)',\n",
       "  'price': 1450,\n",
       "  'source_site': ['SiteA', 'SiteC']},\n",
       " {'product_id': '103',\n",
       "  'name': '商品Z (B)',\n",
       "  'price': 2000,\n",
       "  'source_site': ['SiteB']}]"
      ]
     },
     "execution_count": 11,
     "metadata": {},
     "output_type": "execute_result"
    }
   ],
   "source": [
    "site_a_data = [\n",
    "    {\"product_id\": \"101\", \"name\": \"商品X (A)\", \"price\": 1000, \"source_site\": \"SiteA\"},\n",
    "    {\"product_id\": \"102\", \"name\": \"商品Y (A)\", \"price\": 1500, \"source_site\": \"SiteA\"}\n",
    "]\n",
    "site_b_data = [\n",
    "    {\"product_id\": \"101\", \"name\": \"商品X (B)\", \"price\": 980, \"stock\": 10, \"source_site\": \"SiteB\"}, # nameとpriceが更新される\n",
    "    {\"product_id\": \"103\", \"name\": \"商品Z (B)\", \"price\": 2000, \"source_site\": \"SiteB\"}\n",
    "]\n",
    "site_c_data = [\n",
    "    {\"product_id\": \"101\", \"source_site\": \"SiteC\"}, # priceはSiteBのまま、source_siteにSiteCが追加\n",
    "    {\"product_id\": \"102\", \"price\": 1450, \"source_site\": \"SiteC\"}\n",
    "]\n",
    "\n",
    "merged_data = merge_product_data(site_a_data, site_b_data, site_c_data)\n",
    "\n",
    "merged_data"
   ]
  },
  {
   "cell_type": "markdown",
   "id": "614f1a66",
   "metadata": {},
   "source": [
    "# 練習"
   ]
  },
  {
   "cell_type": "code",
   "execution_count": null,
   "id": "6a3be0ae",
   "metadata": {},
   "outputs": [],
   "source": []
  }
 ],
 "metadata": {
  "kernelspec": {
   "display_name": "Python 3",
   "language": "python",
   "name": "python3"
  },
  "language_info": {
   "codemirror_mode": {
    "name": "ipython",
    "version": 3
   },
   "file_extension": ".py",
   "mimetype": "text/x-python",
   "name": "python",
   "nbconvert_exporter": "python",
   "pygments_lexer": "ipython3",
   "version": "3.9.10"
  }
 },
 "nbformat": 4,
 "nbformat_minor": 5
}
