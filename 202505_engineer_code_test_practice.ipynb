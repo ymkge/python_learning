{
 "cells": [
  {
   "cell_type": "code",
   "execution_count": null,
   "id": "90eb96f9",
   "metadata": {},
   "outputs": [],
   "source": []
  },
  {
   "cell_type": "markdown",
   "id": "c444d53b",
   "metadata": {},
   "source": [
    "# 1. JANコードのバリデーション関数\n",
    "\n",
    "問題:\n",
    "JANコード（標準タイプ13桁、短縮タイプ8桁）の文字列が有効かどうかを判定する関数 validate_jan_code(jan_code) を作成してください。\n",
    "有効なJANコードは、すべて数字で構成され、長さが13桁または8桁です。チェックデジットの計算までは不要とします。\n",
    "\n",
    "期待される動作例:\n",
    "\n",
    "```Python\n",
    "validate_jan_code(\"4901234567890\") # True (13桁)\n",
    "validate_jan_code(\"1234567\")      # False (7桁)\n",
    "validate_jan_code(\"49012345\")      # True (8桁)\n",
    "validate_jan_code(\"490abcde\")      # False (数字以外を含む)\n",
    "validate_jan_code(\"\")              # False (空文字)\n",
    "```\n"
   ]
  },
  {
   "cell_type": "markdown",
   "id": "dd4a5fbc",
   "metadata": {},
   "source": []
  },
  {
   "cell_type": "code",
   "execution_count": null,
   "id": "133487e3",
   "metadata": {},
   "outputs": [],
   "source": [
    "def validate_jan_code(jan_code):\n",
    "    if jan_code.isdigit():\n",
    "        if len(jan_code) == 8 or len(jan_code) == 13:\n",
    "            return True\n",
    "        else:\n",
    "            return False\n",
    "    else:\n",
    "        return False\n"
   ]
  },
  {
   "cell_type": "code",
   "execution_count": 13,
   "id": "b2909591",
   "metadata": {},
   "outputs": [
    {
     "name": "stdout",
     "output_type": "stream",
     "text": [
      "True\n",
      "False\n",
      "True\n",
      "False\n",
      "False\n"
     ]
    }
   ],
   "source": [
    "print(validate_jan_code(\"4901234567890\")) # True (13桁)\n",
    "print(validate_jan_code(\"1234567\"))      # False (7桁)\n",
    "print(validate_jan_code(\"49012345\"))      # True (8桁)\n",
    "print(validate_jan_code(\"490abcde\"))      # False (数字以外を含む)\n",
    "print(validate_jan_code(\"\"))              # False (空文字)\n",
    "\n"
   ]
  },
  {
   "cell_type": "code",
   "execution_count": null,
   "id": "7e0d063b",
   "metadata": {},
   "outputs": [],
   "source": []
  },
  {
   "cell_type": "markdown",
   "id": "8c0b7280",
   "metadata": {},
   "source": [
    "# 2. 商品データの正規化関数\n",
    "問題:\n",
    "商品名のリストを受け取り、各商品名を正規化する関数 normalize_product_names(names) を作成してください。正規化のルールは以下の通りです。\n",
    "\n",
    "全角英数字および全角スペースを半角に変換する。\n",
    "文字列の先頭と末尾の空白を削除する。\n",
    "大文字・小文字を区別せず、すべて小文字に統一する。\n",
    "期待される動作例:\n",
    "\n",
    "```Python\n",
    "\n",
    "names = [\"　Ｐｒｏｄｕｃｔ　Ａ　\", \"ｐｒｏｄｕｃｔ　Ｂ　\", \"PRODUCT C\"]\n",
    "normalized = normalize_product_names(names)\n",
    "# 期待される出力: ['product a', 'product b', 'product c']\n",
    "```\n"
   ]
  },
  {
   "cell_type": "code",
   "execution_count": 24,
   "id": "5cf3a353",
   "metadata": {},
   "outputs": [],
   "source": [
    "import unicodedata\n",
    "\n",
    "def normalize_product_names(names):\n",
    "    normalized_names = []\n",
    "    \n",
    "    for name in names:\n",
    "        # 全角英数字および全角スペースを半角に変換\n",
    "        half_width_name = unicodedata.normalize('NFKC', name)\n",
    "        \n",
    "        # 先頭と末尾の空白を削除し、小文字に変換\n",
    "        normalized_name = half_width_name.strip().lower()\n",
    "        \n",
    "        normalized_names.append(normalized_name)\n",
    "    \n",
    "    return normalized_names"
   ]
  },
  {
   "cell_type": "code",
   "execution_count": null,
   "id": "ef1b4498",
   "metadata": {},
   "outputs": [
    {
     "name": "stdout",
     "output_type": "stream",
     "text": [
      "['product a', 'product b', 'product c']\n"
     ]
    }
   ],
   "source": [
    "names = [\"　Ｐｒｏｄｕｃｔ　Ａ　\", \"ｐｒｏｄｕｃｔ　Ｂ　\", \"PRODUCT C\"]\n",
    "print(normalize_product_names(names))\n"
   ]
  },
  {
   "cell_type": "code",
   "execution_count": null,
   "id": "3695392d",
   "metadata": {},
   "outputs": [],
   "source": []
  },
  {
   "cell_type": "markdown",
   "id": "9f60af14",
   "metadata": {},
   "source": [
    "# 3. 商品名からのキーワード抽出関数\n",
    "問題:\n",
    "商品名の文字列と、抽出対象のキーワードリストを受け取り、商品名に含まれるキーワードを抽出してリストで返す関数 extract_keywords(product_name, keywords) を作成してください。キーワードの検索は、大文字・小文字を区別しないものとします。\n",
    "\n",
    "期待される動作例:\n",
    "\n",
    "```Python\n",
    "\n",
    "product_name = \"高品質オーガニックコットン Tシャツ Mサイズ ホワイト\"\n",
    "keywords = [\"オーガニック\", \"コットン\", \"リネン\", \"ホワイト\"]\n",
    "extracted = extract_keywords(product_name, keywords)\n",
    "# 期待される出力: ['オーガニック', 'コットン', 'ホワイト'] (順不同でも可)\n",
    "```"
   ]
  },
  {
   "cell_type": "code",
   "execution_count": null,
   "id": "15e643de",
   "metadata": {},
   "outputs": [],
   "source": []
  },
  {
   "cell_type": "code",
   "execution_count": null,
   "id": "7d084d9a",
   "metadata": {},
   "outputs": [],
   "source": [
    "def extract_keywords(produce_name, keywords):\n",
    "    # 大文字と小文字の区別をなくす為、小文字で比較する\n",
    "    product_name_lower = product_name.lower()\n",
    "    extracted_keywords = [keyword for keyword in keywords if keyword.lower() in product_name_lower]\n",
    "\n",
    "    return extracted_keywords\n"
   ]
  },
  {
   "cell_type": "code",
   "execution_count": 28,
   "id": "b73bdf04",
   "metadata": {},
   "outputs": [
    {
     "data": {
      "text/plain": [
       "['オーガニック', 'コットン', 'ホワイト']"
      ]
     },
     "execution_count": 28,
     "metadata": {},
     "output_type": "execute_result"
    }
   ],
   "source": [
    "product_name = \"高品質オーガニックコットン Tシャツ Mサイズ ホワイト\"\n",
    "keywords = [\"オーガニック\", \"コットン\", \"リネン\", \"ホワイト\"]\n",
    "extracted = extract_keywords(product_name, keywords)\n",
    "extracted\n"
   ]
  },
  {
   "cell_type": "code",
   "execution_count": null,
   "id": "273e8827",
   "metadata": {},
   "outputs": [],
   "source": []
  },
  {
   "cell_type": "markdown",
   "id": "abdce371",
   "metadata": {},
   "source": [
    "# 4. 価格文字列からの数値抽出関数\n",
    "問題:\n",
    "価格を表す文字列（例: \"¥1,980 (税込)\", \"2,500円\", \"3000\"）から、数値のみを抽出して整数型で返す関数 extract_price(price_str) を作成してください。通貨記号、カンマ、\"円\"、\"(税込)\"などの文字列は無視するものとします。数値として解釈できない場合は None を返してください。\n",
    "\n",
    "期待される動作例:\n",
    "\n",
    "```Python\n",
    "extract_price(\"¥1,980 (税込)\") # 1980\n",
    "extract_price(\"2,500円\")      # 2500\n",
    "extract_price(\"3000\")         # 3000\n",
    "extract_price(\"特価\")         # None\n",
    "extract_price(\"送料無料\")       # None\n",
    "```"
   ]
  },
  {
   "cell_type": "code",
   "execution_count": 55,
   "id": "841c67ed",
   "metadata": {},
   "outputs": [],
   "source": [
    "import re\n",
    "\n",
    "def extract_price(price_str):\n",
    "    price_number = re.findall(r'\\d+', price_str)\n",
    "    formatted_number = ''.join(price_number)\n",
    "\n",
    "    if formatted_number:\n",
    "        return formatted_number\n",
    "    \n",
    "    return None\n"
   ]
  },
  {
   "cell_type": "code",
   "execution_count": 57,
   "id": "cdd2932c",
   "metadata": {},
   "outputs": [
    {
     "name": "stdout",
     "output_type": "stream",
     "text": [
      "1980\n",
      "2500\n",
      "3000\n",
      "None\n",
      "None\n"
     ]
    }
   ],
   "source": [
    "print(extract_price(\"¥1,980 (税込)\")) # 1980\n",
    "print(extract_price(\"2,500円\"))      # 2500\n",
    "print(extract_price(\"3000\"))         # 3000\n",
    "print(extract_price(\"特価\"))         # None\n",
    "print(extract_price(\"送料無料\"))       # None\n"
   ]
  },
  {
   "cell_type": "code",
   "execution_count": null,
   "id": "4a4f76e6",
   "metadata": {},
   "outputs": [],
   "source": []
  },
  {
   "cell_type": "markdown",
   "id": "822b353f",
   "metadata": {},
   "source": [
    "# 5. 商品辞書のリストから特定キーの値を集計する関数\n",
    "問題:\n",
    "商品の情報が格納された辞書のリストと、集計対象のキー名を受け取り、そのキーに対応する値の合計を返す関数 sum_values_from_dict_list(data_list, key) を作成してください。対象のキーが存在しない辞書や、値が数値でない場合はスキップ（0として加算）してください。\n",
    "\n",
    "期待される動作例:\n",
    "\n",
    "```Python\n",
    "data = [\n",
    "    {\"name\": \"商品A\", \"price\": 1000, \"stock\": 10},\n",
    "    {\"name\": \"商品B\", \"price\": \"N/A\", \"stock\": 5}, # priceが数値でない\n",
    "    {\"name\": \"商品C\", \"stock\": 20},             # priceキーがない\n",
    "    {\"name\": \"商品D\", \"price\": 1500, \"stock\": 0}\n",
    "]\n",
    "total_price = sum_values_from_dict_list(data, \"price\")\n",
    "# 期待される出力: 2500 (1000 + 0 + 0 + 1500)\n",
    "total_stock = sum_values_from_dict_list(data, \"stock\")\n",
    "# 期待される出力: 35 (10 + 5 + 20 + 0)\n",
    "```"
   ]
  },
  {
   "cell_type": "code",
   "execution_count": 14,
   "id": "ddfb1ade",
   "metadata": {},
   "outputs": [],
   "source": [
    "def sum_values_from_dict_list(data_list, key):\n",
    "\n",
    "    total = 0\n",
    "    for data in data_list:\n",
    "        if key in data and isinstance(data[key], (int, float)):\n",
    "            total += data[key]\n",
    "    return total\n",
    "    \n",
    "    "
   ]
  },
  {
   "cell_type": "code",
   "execution_count": 16,
   "id": "343b07d5",
   "metadata": {},
   "outputs": [
    {
     "data": {
      "text/plain": [
       "2500"
      ]
     },
     "execution_count": 16,
     "metadata": {},
     "output_type": "execute_result"
    }
   ],
   "source": [
    "data = [\n",
    "    {\"name\": \"商品A\", \"price\": 1000, \"stock\": 10},\n",
    "    {\"name\": \"商品B\", \"price\": \"N/A\", \"stock\": 5}, # priceが数値でない\n",
    "    {\"name\": \"商品C\", \"stock\": 20},             # priceキーがない\n",
    "    {\"name\": \"商品D\", \"price\": 1500, \"stock\": 0}\n",
    "]\n",
    "total_price = sum_values_from_dict_list(data, \"price\")\n",
    "total_price\n",
    "# 期待される出力: 2500 (1000 + 0 + 0 + 1500)"
   ]
  },
  {
   "cell_type": "code",
   "execution_count": 18,
   "id": "9722a1c8",
   "metadata": {},
   "outputs": [
    {
     "data": {
      "text/plain": [
       "35"
      ]
     },
     "execution_count": 18,
     "metadata": {},
     "output_type": "execute_result"
    }
   ],
   "source": [
    "total_stock = sum_values_from_dict_list(data, \"stock\")\n",
    "total_stock\n",
    "# 期待される出力: 35 (10 + 5 + 20 + 0)"
   ]
  },
  {
   "cell_type": "markdown",
   "id": "a8fcda46",
   "metadata": {},
   "source": [
    "# 6. 商品データの名寄せ（簡易版）\n",
    "問題:\n",
    "2つの商品名文字列を受け取り、それらが類似しているかどうかを判定する簡易的な関数 are_names_similar(name1, name2, threshold=0.7) を作成してください。\n",
    "類似度の計算方法として、ここでは「共通する単語の割合」を用います。\n",
    "\n",
    "各商品名をスペースで単語に分割します（句読点は無視して良い）。\n",
    "両方の名前に含まれる共通の単語（大文字・小文字は区別しない）の数を数えます。\n",
    "共通単語数を、両方の名前の総単語数のうち長い方で割った値を類似度とします。\n",
    "類似度が指定された threshold 以上であれば True、そうでなければ False を返します。\n",
    "期待される動作例:\n",
    "\n",
    "```Python\n",
    "are_names_similar(\"美味しいリンゴ 青森産\", \"青森産 美味しいリンゴ\") # True\n",
    "are_names_similar(\"美味しいミカン 和歌山産\", \"美味しいリンゴ 青森産\") # False (共通単語が少ない)\n",
    "are_names_similar(\"iPhone 15 Pro 256GB\", \"iPhone 15 Pro Max 512GB\", threshold=0.6) # True (iPhone, 15, Proが共通)\n",
    "```\n"
   ]
  },
  {
   "cell_type": "code",
   "execution_count": null,
   "id": "19cba5f9",
   "metadata": {},
   "outputs": [],
   "source": []
  },
  {
   "cell_type": "code",
   "execution_count": null,
   "id": "19ca115f",
   "metadata": {},
   "outputs": [],
   "source": []
  },
  {
   "cell_type": "markdown",
   "id": "f13afa4e",
   "metadata": {},
   "source": [
    "# 7. APIレスポンス風JSONデータからの情報抽出\n",
    "問題:\n",
    "以下のような、商品情報を含むAPIレスポンスを模したJSON文字列が与えられます。このJSON文字列をパースし、各商品の name と price （amount の値）をタプルのリストとして返す関数 extract_product_info_from_json(json_string) を作成してください。 price 情報が存在しない商品はスキップしてください。\n",
    "\n",
    "JSON文字列の例:\n",
    "\n",
    "```JSON\n",
    "{\n",
    "  \"count\": 2,\n",
    "  \"products\": [\n",
    "    {\n",
    "      \"id\": \"A001\",\n",
    "      \"name\": \"スマートウォッチ XYZ\",\n",
    "      \"details\": {\"category\": \"ウェアラブル\", \"brand\": \"TechCo\"},\n",
    "      \"price\": {\"amount\": 15000, \"currency\": \"JPY\"}\n",
    "    },\n",
    "    {\n",
    "      \"id\": \"B002\",\n",
    "      \"name\": \"ワイヤレスイヤホン Pro\",\n",
    "      \"details\": {\"category\": \"オーディオ\", \"brand\": \"SoundMax\"},\n",
    "      \"price\": null\n",
    "    },\n",
    "    {\n",
    "      \"id\": \"C003\",\n",
    "      \"name\": \"コーヒーメーカー Deluxe\",\n",
    "      \"details\": {\"category\": \"家電\", \"brand\": \"HomeGoods\"},\n",
    "      \"price\": {\"amount\": 8000, \"currency\": \"JPY\"}\n",
    "    }\n",
    "  ]\n",
    "}\n",
    "```\n",
    "\n",
    "期待される動作例:\n",
    "\n",
    "```Python\n",
    "json_data = \"\"\"\n",
    "{\n",
    "  \"count\": 3,\n",
    "  \"products\": [\n",
    "    {\"id\": \"A001\", \"name\": \"スマートウォッチ XYZ\", \"details\": {\"category\": \"ウェアラブル\"}, \"price\": {\"amount\": 15000, \"currency\": \"JPY\"}},\n",
    "    {\"id\": \"B002\", \"name\": \"ワイヤレスイヤホン Pro\", \"details\": {\"category\": \"オーディオ\"}, \"price\": null},\n",
    "    {\"id\": \"C003\", \"name\": \"コーヒーメーカー Deluxe\", \"details\": {\"category\": \"家電\"}, \"price\": {\"amount\": 8000, \"currency\": \"JPY\"}}\n",
    "  ]\n",
    "}\n",
    "\"\"\"\n",
    "info = extract_product_info_from_json(json_data)\n",
    "# 期待される出力: [('スマートウォッチ XYZ', 15000), ('コーヒーメーカー Deluxe', 8000)] (順不同でも可)\n",
    "```"
   ]
  },
  {
   "cell_type": "code",
   "execution_count": null,
   "id": "07723190",
   "metadata": {},
   "outputs": [],
   "source": []
  },
  {
   "cell_type": "code",
   "execution_count": null,
   "id": "b1b6b47d",
   "metadata": {},
   "outputs": [],
   "source": []
  },
  {
   "cell_type": "markdown",
   "id": "c88acb95",
   "metadata": {},
   "source": [
    "# 8. 商品説明文からの特徴タグ生成\n",
    "問題:\n",
    "商品説明文の文字列と、特徴語のリストを受け取り、商品説明文に含まれる特徴語をタグとして抽出する関数 generate_feature_tags(description, feature_words) を作成してください。抽出するタグは重複せず、大文字・小文字を区別しないものとします。\n",
    "\n",
    "期待される動作例:\n",
    "\n",
    "```Python\n",
    "\n",
    "description = \"この最新型スマートフォンは、防水機能と大容量バッテリーが特徴です。高速充電にも対応し、カメラ性能も向上しました。防水設計なので安心です。\"\n",
    "feature_words = [\"防水\", \"大容量バッテリー\", \"高速充電\", \"カメラ\", \"軽量\"]\n",
    "tags = generate_feature_tags(description, feature_words)\n",
    "# 期待される出力: {'防水', '大容量バッテリー', '高速充電', 'カメラ'} (セット型、順不同)\n",
    "````"
   ]
  },
  {
   "cell_type": "code",
   "execution_count": null,
   "id": "44af5a2a",
   "metadata": {},
   "outputs": [],
   "source": []
  },
  {
   "cell_type": "code",
   "execution_count": null,
   "id": "75027982",
   "metadata": {},
   "outputs": [],
   "source": []
  },
  {
   "cell_type": "markdown",
   "id": "fd0da0b0",
   "metadata": {},
   "source": [
    "# 9. 在庫数に基づく商品ステータス判定\n",
    "問題:\n",
    "商品名と現在の在庫数を引数に取り、在庫状況に応じたステータス文字列を返す関数 get_product_status(product_name, stock_count) を作成してください。\n",
    "\n",
    "在庫数が0の場合: \"{商品名} は在庫切れです\"\n",
    "在庫数が1以上10以下の場合: \"{商品名} は残りわずかです (残{在庫数}点)\"\n",
    "在庫数が10より多い場合: \"{商品名} は在庫があります\"\n",
    "期待される動作例:\n",
    "\n",
    "```Python\n",
    "get_product_status(\"高機能マウス\", 0)   # \"高機能マウス は在庫切れです\"\n",
    "get_product_status(\"静音キーボード\", 5)  # \"静音キーボード は残りわずかです (残5点)\"\n",
    "get_product_status(\"27インチモニター\", 50) # \"27インチモニター は在庫があります\"\n",
    "```\n"
   ]
  },
  {
   "cell_type": "code",
   "execution_count": null,
   "id": "8f19d8fa",
   "metadata": {},
   "outputs": [],
   "source": []
  },
  {
   "cell_type": "code",
   "execution_count": null,
   "id": "1ed71c51",
   "metadata": {},
   "outputs": [],
   "source": []
  },
  {
   "cell_type": "markdown",
   "id": "4ee8b2b0",
   "metadata": {},
   "source": [
    "# 10. 複数ECサイトの商品データ統合（簡易版）\n",
    "問題:\n",
    "異なるECサイトから収集した商品データのリスト（各リストは商品辞書のリスト）を複数受け取り、product_id をキーとしてデータをマージする関数 merge_product_data(*site_data_lists) を作成してください。\n",
    "各商品辞書は product_id（必須）とその他の情報（例: price, name, source_site）を含みます。\n",
    "マージのルールは以下の通りです。\n",
    "\n",
    "同じ product_id の商品が見つかった場合、後から処理されるリストの情報で上書きします（価格など）。\n",
    "ただし、source_site の情報はリストとして追記していくものとします（どのサイトでその商品が見つかったかを知るため）。\n",
    "最終的に、統合された商品データ（product_id ごとに1つの辞書）のリストを返します。\n",
    "期待される動作例:\n",
    "\n",
    "```Python\n",
    "site_a_data = [\n",
    "    {\"product_id\": \"101\", \"name\": \"商品X (A)\", \"price\": 1000, \"source_site\": \"SiteA\"},\n",
    "    {\"product_id\": \"102\", \"name\": \"商品Y (A)\", \"price\": 1500, \"source_site\": \"SiteA\"}\n",
    "]\n",
    "site_b_data = [\n",
    "    {\"product_id\": \"101\", \"name\": \"商品X (B)\", \"price\": 980, \"stock\": 10, \"source_site\": \"SiteB\"}, # nameとpriceが更新される\n",
    "    {\"product_id\": \"103\", \"name\": \"商品Z (B)\", \"price\": 2000, \"source_site\": \"SiteB\"}\n",
    "]\n",
    "site_c_data = [\n",
    "    {\"product_id\": \"101\", \"source_site\": \"SiteC\"}, # priceはSiteBのまま、source_siteにSiteCが追加\n",
    "    {\"product_id\": \"102\", \"price\": 1450, \"source_site\": \"SiteC\"}\n",
    "]\n",
    "\n",
    "merged_data = merge_product_data(site_a_data, site_b_data, site_c_data)\n",
    "# merged_data の期待される内容 (順不同、内部のsource_siteのリストも順不同で可):\n",
    "# [\n",
    "#   {'product_id': '101', 'name': '商品X (B)', 'price': 980, 'stock': 10, 'source_site': ['SiteA', 'SiteB', 'SiteC']},\n",
    "#   {'product_id': '102', 'name': '商品Y (A)', 'price': 1450, 'source_site': ['SiteA', 'SiteC']},\n",
    "#   {'product_id': '103', 'name': '商品Z (B)', 'price': 2000, 'source_site': ['SiteB']}\n",
    "# ]\n",
    "```"
   ]
  },
  {
   "cell_type": "code",
   "execution_count": null,
   "id": "55e27bb9",
   "metadata": {},
   "outputs": [],
   "source": []
  },
  {
   "cell_type": "code",
   "execution_count": null,
   "id": "d9da8827",
   "metadata": {},
   "outputs": [],
   "source": []
  },
  {
   "cell_type": "code",
   "execution_count": null,
   "id": "6a3be0ae",
   "metadata": {},
   "outputs": [],
   "source": []
  }
 ],
 "metadata": {
  "kernelspec": {
   "display_name": "Python 3",
   "language": "python",
   "name": "python3"
  },
  "language_info": {
   "codemirror_mode": {
    "name": "ipython",
    "version": 3
   },
   "file_extension": ".py",
   "mimetype": "text/x-python",
   "name": "python",
   "nbconvert_exporter": "python",
   "pygments_lexer": "ipython3",
   "version": "3.9.10"
  }
 },
 "nbformat": 4,
 "nbformat_minor": 5
}
