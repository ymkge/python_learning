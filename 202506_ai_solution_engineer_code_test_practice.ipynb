{
 "cells": [
  {
   "cell_type": "markdown",
   "id": "e8c93432",
   "metadata": {},
   "source": [
    "# 以下の点を重視したコードテスト問題例\n",
    "- PythonとSQLのスキル：必須スキルとして明記されているため、これらの言語を使った問題が中心となります。\n",
    "- データ処理・分析能力：商品データプラットフォームであるため、Pandasを使ったデータ加工や、SQLによるデータ抽出・集計能力は不可欠です。\n",
    "- 機械学習の基礎と応用：機械学習担当として、基本的なアルゴリズムの理解やライブラリの利用、AI/Gen AIを活用したソリューション設計の素養を測ります。\n",
    "- 問題解決・設計能力：「高レベルの問題を分解し解決策を設計する能力」「自律的に問題を解決するための技術的設計力」を評価できるような、実務に近いシナリオを設定します。\n",
    "- 顧客志向とカスタマイズ：「顧客課題解決」「ソフトウェアを顧客のニーズに合わせてカスタマイズ構築する」といった点を意識した問題設定をします。\n",
    "- GCPの利用経験（間接的に）：BigQueryを意識したSQLや、Cloud Functionsで動作するようなPython関数を想定した問題を取り入れます。"
   ]
  },
  {
   "cell_type": "markdown",
   "id": "f13c1a86",
   "metadata": {},
   "source": [
    "# 問題1: 商品データの基本的なクレンジング (Python + Pandas)\n",
    "\n",
    "- シナリオ:\n",
    "顧客から提供された商品データ（CSV形式を想定）には、価格が文字列で記録されていたり、欠損値が含まれていたりします。これらのデータを分析可能な状態に整形する関数を作成してください。\n",
    "\n",
    "- 課題:\n",
    "与えられたPandas DataFrameに対し、以下の処理を行う関数 clean_product_data(df) を実装してください。\n",
    "price 列が文字列（例: \"1,200円\"）で格納されている場合、数値型（intまたはfloat）に変換する。通貨記号やカンマは除去する。変換できない値は欠損値(NaN)とする。\n",
    "stock_quantity 列の欠損値を0で補完する。\n",
    "product_name 列の文字列の先頭と末尾の不要な空白を削除する。\n",
    "期待されるスキル: Pandas DataFrame操作、データ型変換、欠損値処理、文字列操作。\n",
    "\n",
    "- 入力例 (DataFrame):\n",
    "```python\n",
    "product_id product_name      price  stock_quantity\n",
    "0          A01   Product A   \"1,200円\"           10.0\n",
    "1          A02   Product B        NaN           20.0\n",
    "2          A03    Product C     \"800円\"            NaN\n",
    "3          A04  Product D       \"Invalid\"         5.0\n",
    "Use code with caution.\n",
    "```\n",
    "\n",
    "- 出力例 (DataFrame):\n",
    "```python\n",
    "product_id product_name  price  stock_quantity\n",
    "0          A01    Product A   1200.0            10.0\n",
    "1          A02    Product B      NaN            20.0\n",
    "2          A03    Product C    800.0             0.0\n",
    "3          A04    Product D      NaN             5.0\n",
    "```"
   ]
  },
  {
   "cell_type": "markdown",
   "id": "33b9e2e3",
   "metadata": {},
   "source": [
    "## 回答"
   ]
  },
  {
   "cell_type": "markdown",
   "id": "9397c287",
   "metadata": {},
   "source": []
  },
  {
   "cell_type": "code",
   "execution_count": null,
   "id": "2efdb64f",
   "metadata": {
    "vscode": {
     "languageId": "plaintext"
    }
   },
   "outputs": [],
   "source": []
  },
  {
   "cell_type": "code",
   "execution_count": null,
   "id": "3309a18e",
   "metadata": {
    "vscode": {
     "languageId": "plaintext"
    }
   },
   "outputs": [],
   "source": []
  },
  {
   "cell_type": "markdown",
   "id": "75feb123",
   "metadata": {},
   "source": [
    "# 問題2: 商品カテゴリのルールベース分類 (Python)\n",
    "\n",
    "- シナリオ:\n",
    "商品名に含まれるキーワードに基づいて、商品をカテゴリ分類するシンプルなロジックを実装します。これは、機械学習モデルを導入する前の初期段階のプロトタイピングや、特定の顧客向けカスタマイズを想定しています。\n",
    "\n",
    "- 課題:\n",
    "商品名（文字列）とカテゴリ判定ルール（キーワードとカテゴリ名の辞書）を受け取り、商品が属するカテゴリ名を返す関数 classify_product_by_name(product_name, category_rules) を実装してください。複数のルールに合致する場合は、最初に見つかったカテゴリを返します。どのルールにも合致しない場合は \"その他\" を返します。\n",
    "期待されるスキル: Pythonの基本的なデータ構造（文字列、辞書、リスト）、ループ、条件分岐、関数設計。\n",
    "\n",
    "- 入力例:\n",
    "  - product_name = \"高品質ワイヤレスイヤホン Bluetooth 5.0\"\n",
    "  - category_rules = {\"イヤホン\": \"オーディオ機器\", \"テレビ\": \"家電\", \"Bluetooth\": \"アクセサリ\"}\n",
    "\n",
    "- 出力例: \"オーディオ機器\" (「イヤホン」が「Bluetooth」より先にルール内で定義されている場合)\n"
   ]
  },
  {
   "cell_type": "markdown",
   "id": "0a9f406d",
   "metadata": {},
   "source": [
    "## 回答"
   ]
  },
  {
   "cell_type": "markdown",
   "id": "558d2d14",
   "metadata": {},
   "source": []
  },
  {
   "cell_type": "code",
   "execution_count": null,
   "id": "08afc41f",
   "metadata": {
    "vscode": {
     "languageId": "plaintext"
    }
   },
   "outputs": [],
   "source": []
  },
  {
   "cell_type": "code",
   "execution_count": null,
   "id": "2b89e7db",
   "metadata": {
    "vscode": {
     "languageId": "plaintext"
    }
   },
   "outputs": [],
   "source": []
  },
  {
   "cell_type": "markdown",
   "id": "9fa72937",
   "metadata": {},
   "source": [
    "# 問題3: 特定条件での売上データ集計 (SQL)\n",
    "\n",
    "- シナリオ:\n",
    "商品データベースから、特定の条件を満たす売上データを集計し、レポートを作成する必要があります。\n",
    "\n",
    "- 課題:\n",
    "以下の2つのテーブルがあるとします。\n",
    "  - products (product_id INT, product_name VARCHAR, category VARCHAR, unit_price INT)\n",
    "  - sales (sale_id INT, product_id INT, quantity INT, sale_date DATE)\n",
    "\n",
    "2024年1月以降に、「家電」カテゴリの商品で、かつ販売単価（unit_price）が10,000円以上の商品の総売上金額（unit_price * quantity）を月別に集計するSQLクエリを作成してください。結果は、月(YYYY-MM形式)、総売上金額の2列で、総売上金額の降順で表示してください。\n",
    "\n",
    "- 期待されるスキル: SQL (JOIN, WHERE, GROUP BY, 集計関数, 日付関数, ORDER BY)。BigQuery等での実行を想定した標準SQL。"
   ]
  },
  {
   "cell_type": "markdown",
   "id": "b952e2c8",
   "metadata": {},
   "source": [
    "## 回答"
   ]
  },
  {
   "cell_type": "code",
   "execution_count": null,
   "id": "56c4cc58",
   "metadata": {
    "vscode": {
     "languageId": "plaintext"
    }
   },
   "outputs": [],
   "source": []
  },
  {
   "cell_type": "code",
   "execution_count": null,
   "id": "4bf5d717",
   "metadata": {
    "vscode": {
     "languageId": "plaintext"
    }
   },
   "outputs": [],
   "source": []
  },
  {
   "cell_type": "code",
   "execution_count": null,
   "id": "397085f1",
   "metadata": {
    "vscode": {
     "languageId": "plaintext"
    }
   },
   "outputs": [],
   "source": []
  },
  {
   "cell_type": "markdown",
   "id": "4943cba9",
   "metadata": {},
   "source": [
    "# 問題4: カスタムAPIエンドポイントのロジック (Python)\n",
    "\n",
    "- シナリオ:\n",
    "顧客の既存システムと連携するため、特定の商品情報を取得する専用APIのエンドポイントロジックを開発します。\n",
    "\n",
    "- 課題:\n",
    "商品IDのリストを受け取り、各商品IDに対応する商品名と在庫数を返す関数 get_product_details_batch(product_ids, product_database) を実装してください。product_database は商品IDをキーとし、商品情報（商品名、在庫数などを含む辞書）を値とする辞書とします。存在しない商品IDがリストに含まれていた場合は、その商品IDに対応する情報として {\"error\": \"Not Found\"} を含めてください。\n",
    "期待されるスキル: Pythonの辞書操作、リスト操作、エラーハンドリング、API設計の基本的な考え方。\n",
    "\n",
    "- 入力例:\n",
    "  - product_ids = [\"P001\", \"P002\", \"P999\"]\n",
    "  - product_database = {\"P001\": {\"name\": \"Laptop Pro\", \"stock\": 10}, \"P002\": {\"name\": \"Wireless Mouse\", \"stock\": 150}}\n",
    "\n",
    "- 出力例 (リスト):\n",
    "```python\n",
    "[\n",
    "    {\"product_id\": \"P001\", \"name\": \"Laptop Pro\", \"stock\": 10},\n",
    "    {\"product_id\": \"P002\", \"name\": \"Wireless Mouse\", \"stock\": 150},\n",
    "    {\"product_id\": \"P999\", \"error\": \"Not Found\"}\n",
    "]\n",
    "```"
   ]
  },
  {
   "cell_type": "markdown",
   "id": "aaa88cc4",
   "metadata": {},
   "source": [
    "## 回答"
   ]
  },
  {
   "cell_type": "code",
   "execution_count": null,
   "id": "31a78e54",
   "metadata": {
    "vscode": {
     "languageId": "plaintext"
    }
   },
   "outputs": [],
   "source": []
  },
  {
   "cell_type": "code",
   "execution_count": null,
   "id": "696f5d61",
   "metadata": {
    "vscode": {
     "languageId": "plaintext"
    }
   },
   "outputs": [],
   "source": []
  },
  {
   "cell_type": "code",
   "execution_count": null,
   "id": "392d6991",
   "metadata": {
    "vscode": {
     "languageId": "plaintext"
    }
   },
   "outputs": [],
   "source": []
  },
  {
   "cell_type": "markdown",
   "id": "9caa8cd7",
   "metadata": {},
   "source": [
    "# 問題5: 商品レビューデータの感情分析 (簡易版・機械学習ライブラリ利用) (Python)\n",
    "\n",
    "- シナリオ:\n",
    "収集した商品レビューテキストから、ポジティブかネガティブかを判定する簡易的な感情分析機能を実装します。ここでは、既存の学習済みモデルやシンプルな特徴量エンジニアリングと分類器を利用することを想定します。\n",
    "\n",
    "- 課題:\n",
    "レビューテキスト（文字列）を受け取り、その感情（\"positive\", \"negative\", \"neutral\"のいずれか）を返す関数 analyze_sentiment(review_text) を実装してください。\n",
    "実装方法のヒント：\n",
    "  - 簡単な方法として、ポジティブな単語リストとネガティブな単語リストを用意し、テキストに含まれる単語数で判定する。\n",
    "  - （発展）scikit-learn の TfidfVectorizer と LogisticRegression (または NaiveBayesなど) を用いて、少量の学習データ（問題で提供されても良いし、自分で仮定しても良い）で学習させたモデルで予測する。(この場合、学習部分は省略し、学習済みモデルを使う前提でも可)\n",
    "\n",
    "- 期待されるスキル: Python文字列処理、基本的な機械学習の概念、(発展) scikit-learn等のライブラリ利用。\n",
    "- 備考: この問題では、精度よりも実装の考え方やライブラリの基本的な使い方を見ます。"
   ]
  },
  {
   "cell_type": "markdown",
   "id": "9036cb03",
   "metadata": {},
   "source": [
    "## 回答"
   ]
  },
  {
   "cell_type": "code",
   "execution_count": null,
   "id": "8f735059",
   "metadata": {
    "vscode": {
     "languageId": "plaintext"
    }
   },
   "outputs": [],
   "source": []
  },
  {
   "cell_type": "code",
   "execution_count": null,
   "id": "89260c2f",
   "metadata": {
    "vscode": {
     "languageId": "plaintext"
    }
   },
   "outputs": [],
   "source": []
  },
  {
   "cell_type": "code",
   "execution_count": null,
   "id": "8cac5cc2",
   "metadata": {
    "vscode": {
     "languageId": "plaintext"
    }
   },
   "outputs": [],
   "source": []
  },
  {
   "cell_type": "markdown",
   "id": "47081461",
   "metadata": {},
   "source": [
    "# 問題6: データ不整合の検出 (Python + Pandas)\n",
    "\n",
    "- シナリオ:\n",
    "複数のソースから収集した商品データには、同一商品であるにも関わらず、価格やカテゴリが異なる場合があります。このようなデータの不整合を検出する処理を実装します。\n",
    "\n",
    "- 課題:\n",
    "商品データを含むPandas DataFrame（product_id, source_name, price, category 列を持つ）を受け取り、同一 product_id で price または category が異なるレコードのペアを検出する関数 find_inconsistent_data(df) を実装してください。結果は、不整合のある product_id とその詳細情報を含むDataFrameで返してください。\n",
    "期待されるスキル: Pandasのグルーピング、比較演算、データフィルタリング、重複データの扱い。\n",
    "\n",
    "- 入力例 (DataFrame):\n",
    "```python\n",
    "product_id source_name  price category\n",
    "0        P10      SourceA  100.0    Elec\n",
    "1        P10      SourceB  100.0    Elec\n",
    "2        P20      SourceA  200.0    Book\n",
    "3        P20      SourceB  210.0    Book  # price mismatch\n",
    "4        P30      SourceA  300.0    Home\n",
    "5        P30      SourceB  300.0    Garden # category mismatch (assuming Home != Garden)\n",
    "Use code with caution.\n",
    "```\n",
    "\n",
    "- 出力例 (DataFrame - 一例):\n",
    "```python\n",
    "product_id source_name_A price_A category_A source_name_B price_B category_B\n",
    "0        P20         SourceA   200.0       Book         SourceB   210.0       Book\n",
    "1        P30         SourceA   300.0       Home         SourceB   300.0     Garden\n",
    "Use code with caution.\n",
    "```\n",
    "(出力形式は、不整合がわかる形であれば柔軟に評価)"
   ]
  },
  {
   "cell_type": "markdown",
   "id": "edd3ed22",
   "metadata": {},
   "source": [
    "## 回答"
   ]
  },
  {
   "cell_type": "code",
   "execution_count": null,
   "id": "822a3a86",
   "metadata": {
    "vscode": {
     "languageId": "plaintext"
    }
   },
   "outputs": [],
   "source": []
  },
  {
   "cell_type": "code",
   "execution_count": null,
   "id": "fdf5e3c0",
   "metadata": {
    "vscode": {
     "languageId": "plaintext"
    }
   },
   "outputs": [],
   "source": []
  },
  {
   "cell_type": "code",
   "execution_count": null,
   "id": "9a6a6996",
   "metadata": {
    "vscode": {
     "languageId": "plaintext"
    }
   },
   "outputs": [],
   "source": []
  },
  {
   "cell_type": "markdown",
   "id": "7580af05",
   "metadata": {},
   "source": [
    "# 問題7: Gen AIを活用した商品推薦理由の生成 (Python)\n",
    "\n",
    "- シナリオ:\n",
    "顧客が閲覧している商品に対し、AIが推薦する別の商品について、なぜその商品を推薦するのかの理由をGen AI (LLM) を用いて生成する機能をプロトタイピングします。\n",
    "\n",
    "- 課題:\n",
    "閲覧中の商品情報（辞書）と推薦商品情報（辞書）を受け取り、LLMに渡すための適切なプロンプト文字列を生成する関数 generate_recommendation_prompt(current_product, recommended_product) を実装してください。プロンプトには、両商品の特徴を含め、推薦理由を自然な文章で生成するよう指示する内容を含めてください。\n",
    "（実際のLLM APIコールは不要で、プロンプト文字列を返すだけでOKです）\n",
    "\n",
    "- 期待されるスキル: プロンプトエンジニアリングの基本的な考え方、Pythonでの文字列操作・フォーマット、AI活用への理解。\n",
    "\n",
    "- 入力例:\n",
    "  - current_product = {\"name\": \"高性能一眼レフカメラ\", \"features\": [\"高画質センサー\", \"高速連写\", \"4K動画\"]}\n",
    "  - recommended_product = {\"name\": \"大容量SDカード 128GB\", \"features\": [\"高速転送\", \"4K動画対応\", \"耐久性\"]}\n",
    "\n",
    "- 出力例 (プロンプト文字列の一例):\n",
    "\"ユーザーは「高性能一眼レフカメラ」(特徴: 高画質センサー, 高速連写, 4K動画) を見ています。\n",
    "このユーザーに「大容量SDカード 128GB」(特徴: 高速転送, 4K動画対応, 耐久性) を推薦する理由を、\n",
    "カメラの性能を活かすために役立つ点を強調して、自然な日本語で説明してください。\""
   ]
  },
  {
   "cell_type": "markdown",
   "id": "10416c82",
   "metadata": {},
   "source": [
    "## 回答"
   ]
  },
  {
   "cell_type": "code",
   "execution_count": null,
   "id": "b0e4a24c",
   "metadata": {
    "vscode": {
     "languageId": "plaintext"
    }
   },
   "outputs": [],
   "source": []
  },
  {
   "cell_type": "code",
   "execution_count": null,
   "id": "a3aa38f5",
   "metadata": {
    "vscode": {
     "languageId": "plaintext"
    }
   },
   "outputs": [],
   "source": []
  },
  {
   "cell_type": "code",
   "execution_count": null,
   "id": "3245b4d6",
   "metadata": {
    "vscode": {
     "languageId": "plaintext"
    }
   },
   "outputs": [],
   "source": []
  },
  {
   "cell_type": "markdown",
   "id": "8d32ad09",
   "metadata": {},
   "source": [
    "# 問題8: 商品データ更新の差分検出 (SQL)\n",
    "\n",
    "- シナリオ:\n",
    "日次で更新される商品マスタデータがあります。前日のデータと比較して、価格が変更された商品、新たに追加された商品、取り扱いが終了した商品を特定する必要があります。\n",
    "\n",
    "- 課題:\n",
    "products_today と products_yesterday という同じスキーマ（product_id VARCHAR, product_name VARCHAR, price INT）の2つのテーブルがあるとします。\n",
    "以下の情報を取得するSQLクエリをそれぞれ作成してください（BigQuery等での実行を想定した標準SQL）。\n",
    "  - 価格が変更された商品 (product_id, old_price, new_price)\n",
    "  - 新たに追加された商品 (product_id, product_name, price)\n",
    "  - 取り扱いが終了した商品 (product_id)\n",
    "\n",
    "- 期待されるスキル: SQL (LEFT JOIN, RIGHT JOIN, FULL OUTER JOIN, WHERE句でのNULL比較、サブクエリまたはCTE)。"
   ]
  },
  {
   "cell_type": "markdown",
   "id": "cd22b482",
   "metadata": {},
   "source": [
    "## 回答"
   ]
  },
  {
   "cell_type": "code",
   "execution_count": null,
   "id": "b6453f23",
   "metadata": {
    "vscode": {
     "languageId": "plaintext"
    }
   },
   "outputs": [],
   "source": []
  },
  {
   "cell_type": "code",
   "execution_count": null,
   "id": "8e89e80e",
   "metadata": {
    "vscode": {
     "languageId": "plaintext"
    }
   },
   "outputs": [],
   "source": []
  },
  {
   "cell_type": "code",
   "execution_count": null,
   "id": "456980ab",
   "metadata": {
    "vscode": {
     "languageId": "plaintext"
    }
   },
   "outputs": [],
   "source": []
  },
  {
   "cell_type": "markdown",
   "id": "a63a7259",
   "metadata": {},
   "source": [
    "# 問題9: ワークフロー自動化のためのタスク実行クラス (Python)\n",
    "\n",
    "- シナリオ:\n",
    "顧客ごとに異なるデータ処理ステップを組み合わせたワークフローを自動化します。各ステップはタスクとして定義され、実行順序や依存関係を持ちます。\n",
    "\n",
    "- 課題:\n",
    "基本的なタスク実行を表す Task 基底クラスと、それを継承した具体的なタスククラス（例: DataValidationTask、DataTransformationTask）を設計し、簡単な実行フロー（例: バリデーションタスクの後に変換タスクを実行）をシミュレートするコードを書いてください。\n",
    "  - Task クラスは execute() メソッドを持つ。\n",
    "  - 各タスクは成功/失敗のステータスを持つ。\n",
    "  - 後続のタスクは、先行タスクの成功を条件に実行される。\n",
    "\n",
    "- 期待されるスキル: Pythonのクラス設計（継承、メソッド）、基本的な制御フロー、オブジェクト指向プログラミングの基礎。\n",
    "- 備考: 複雑なワークフローエンジンではなく、基本的なクラス構造と実行ロジックの設計力を見ます。"
   ]
  },
  {
   "cell_type": "markdown",
   "id": "ad088014",
   "metadata": {},
   "source": [
    "## 回答"
   ]
  },
  {
   "cell_type": "code",
   "execution_count": null,
   "id": "e9c79588",
   "metadata": {
    "vscode": {
     "languageId": "plaintext"
    }
   },
   "outputs": [],
   "source": []
  },
  {
   "cell_type": "code",
   "execution_count": null,
   "id": "dfb40ddf",
   "metadata": {
    "vscode": {
     "languageId": "plaintext"
    }
   },
   "outputs": [],
   "source": []
  },
  {
   "cell_type": "code",
   "execution_count": null,
   "id": "680b3f60",
   "metadata": {
    "vscode": {
     "languageId": "plaintext"
    }
   },
   "outputs": [],
   "source": []
  },
  {
   "cell_type": "markdown",
   "id": "e3d13466",
   "metadata": {},
   "source": [
    "# 問題10: 商品属性の類似度計算 (Python)\n",
    "\n",
    "- シナリオ:\n",
    "類似商品を推薦するために、商品属性ベクトル間の類似度を計算する必要があります。\n",
    "\n",
    "- 課題:\n",
    "2つの商品属性ベクトル（数値のリストまたはNumPy配列）を受け取り、それらのコサイン類似度を計算する関数 calculate_cosine_similarity(vector1, vector2) を実装してください。\n",
    "NumPyを使わずに実装しても、NumPyを使って実装しても構いません。\n",
    "\n",
    "- 期待されるスキル: 数学的な概念（コサイン類似度）の理解と実装、Pythonのリスト操作、(オプション) NumPyの利用。\n",
    "- コサイン類似度の定義: A・B / (||A|| * ||B||) (AとBのドット積を、それぞれのベクトルのL2ノルムの積で割ったもの)"
   ]
  },
  {
   "cell_type": "markdown",
   "id": "efe8a6d2",
   "metadata": {},
   "source": [
    "## 回答"
   ]
  },
  {
   "cell_type": "code",
   "execution_count": null,
   "id": "d504968d",
   "metadata": {
    "vscode": {
     "languageId": "plaintext"
    }
   },
   "outputs": [],
   "source": []
  },
  {
   "cell_type": "code",
   "execution_count": null,
   "id": "3f306bfd",
   "metadata": {
    "vscode": {
     "languageId": "plaintext"
    }
   },
   "outputs": [],
   "source": []
  },
  {
   "cell_type": "code",
   "execution_count": null,
   "id": "a0c12365",
   "metadata": {
    "vscode": {
     "languageId": "plaintext"
    }
   },
   "outputs": [],
   "source": []
  }
 ],
 "metadata": {
  "language_info": {
   "name": "python"
  }
 },
 "nbformat": 4,
 "nbformat_minor": 5
}
