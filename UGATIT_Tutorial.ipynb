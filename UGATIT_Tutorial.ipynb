{
  "cells": [
    {
      "cell_type": "markdown",
      "metadata": {
        "id": "view-in-github",
        "colab_type": "text"
      },
      "source": [
        "<a href=\"https://colab.research.google.com/github/ymkge/python_learning/blob/main/UGATIT%20Tutorial.ipynb\" target=\"_parent\"><img src=\"https://colab.research.google.com/assets/colab-badge.svg\" alt=\"Open In Colab\"/></a>"
      ]
    },
    {
      "cell_type": "markdown",
      "metadata": {
        "id": "70vtsoUS6uOx"
      },
      "source": [
        "# UGATIT Tutorial"
      ]
    },
    {
      "cell_type": "markdown",
      "metadata": {
        "id": "GcnrrLJfC_Da"
      },
      "source": [
        "### Git Repo (if not cloned already)"
      ]
    },
    {
      "cell_type": "code",
      "metadata": {
        "id": "Xrhr9Lc0C_Da"
      },
      "outputs": [],
      "source": [
        "!git clone https://github.com/t04glovern/selfie2anime-tutorial\n",
        "%cd selfie2anime-tutorial"
      ],
      "execution_count": null
    },
    {
      "cell_type": "markdown",
      "metadata": {
        "id": "rSUp09Hf66G5"
      },
      "source": [
        "### Dependencies"
      ]
    },
    {
      "cell_type": "code",
      "metadata": {
        "id": "2n1zfOk468qa"
      },
      "outputs": [],
      "source": [
        "!pip install --upgrade pip\n",
        "!pip install -r requirements.txt\n",
        "%cd selfie2anime-tutorial"
      ],
      "execution_count": null
    },
    {
      "cell_type": "markdown",
      "metadata": {
        "id": "-sz3YdbTC_Db"
      },
      "source": [
        "### Dataset (only available for private workshop)"
      ]
    },
    {
      "cell_type": "code",
      "metadata": {
        "id": "C9-wyRJ4C_Db"
      },
      "outputs": [],
      "source": [
        "# AWS\n",
        "!aws s3 cp s3://devopstar/resources/ugatit/selfie2anime/selfie2anime.zip dataset/selfie2anime.zip\n",
        "!unzip -q dataset/selfie2anime.zip -d dataset\n",
        "\n",
        "# Colab\n",
        "!mkdir dataset\n",
        "!wget -O dataset/selfie2anime.zip https://devopstar.s3.amazonaws.com/resources/ugatit/selfie2anime/selfie2anime.zip\n",
        "!unzip -q dataset/selfie2anime.zip -d dataset"
      ],
      "execution_count": null
    },
    {
      "cell_type": "markdown",
      "metadata": {
        "id": "G6Baukq28HNX"
      },
      "source": [
        "### Train"
      ]
    },
    {
      "cell_type": "code",
      "metadata": {
        "id": "hR4tZ96A8IMY"
      },
      "outputs": [],
      "source": [
        "!python main.py --dataset DATASET_NAME --phase train --light True"
      ],
      "execution_count": null
    },
    {
      "cell_type": "markdown",
      "metadata": {
        "id": "Wyi62BmT8LOa"
      },
      "source": [
        "### Test"
      ]
    },
    {
      "cell_type": "code",
      "metadata": {
        "id": "G1KNKOBv8MAX"
      },
      "outputs": [],
      "source": [
        "!python main.py --dataset DATASET_NAME --phase test --light True"
      ],
      "execution_count": null
    }
  ],
  "metadata": {
    "file_extension": ".py",
    "kernelspec": {
      "display_name": "conda_tensorflow_p36",
      "language": "python",
      "name": "conda_tensorflow_p36"
    },
    "language_info": {
      "codemirror_mode": {
        "name": "ipython",
        "version": 3
      },
      "file_extension": ".py",
      "mimetype": "text/x-python",
      "name": "python",
      "nbconvert_exporter": "python",
      "pygments_lexer": "ipython3",
      "version": "3.6.5"
    },
    "mimetype": "text/x-python",
    "name": "python",
    "npconvert_exporter": "python",
    "pygments_lexer": "ipython3",
    "version": 3,
    "colab": {
      "name": "notebook.ipynb",
      "provenance": [],
      "include_colab_link": true
    }
  },
  "nbformat": 4,
  "nbformat_minor": 0
}