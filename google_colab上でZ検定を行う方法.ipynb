{
  "nbformat": 4,
  "nbformat_minor": 0,
  "metadata": {
    "colab": {
      "provenance": [],
      "authorship_tag": "ABX9TyMRVPF4vs47NcA7D7lZLC8u",
      "include_colab_link": true
    },
    "kernelspec": {
      "name": "python3",
      "display_name": "Python 3"
    },
    "language_info": {
      "name": "python"
    }
  },
  "cells": [
    {
      "cell_type": "markdown",
      "metadata": {
        "id": "view-in-github",
        "colab_type": "text"
      },
      "source": [
        "<a href=\"https://colab.research.google.com/github/ymkge/python_learning/blob/main/google_colab%E4%B8%8A%E3%81%A7Z%E6%A4%9C%E5%AE%9A%E3%82%92%E8%A1%8C%E3%81%86%E6%96%B9%E6%B3%95.ipynb\" target=\"_parent\"><img src=\"https://colab.research.google.com/assets/colab-badge.svg\" alt=\"Open In Colab\"/></a>"
      ]
    },
    {
      "cell_type": "code",
      "execution_count": 2,
      "metadata": {
        "colab": {
          "base_uri": "https://localhost:8080/"
        },
        "id": "GkVIhwDn5H96",
        "outputId": "872afd21-0611-4452-bda9-45acb5f2409b"
      },
      "outputs": [
        {
          "output_type": "stream",
          "name": "stdout",
          "text": [
            "グループA 課金率: 0.8362\n",
            "グループB 課金率: 0.8145\n",
            "課金率の差: 0.0216\n",
            "Z統計量: 0.6784\n",
            "p値: 0.4975\n",
            "p値（0.4975）が有意水準（0.05）以上のため、\n",
            "帰無仮説を棄却できません。グループ間に統計的に有意な差があるとは言えません。\n"
          ]
        }
      ],
      "source": [
        "# @title Z検定\n",
        "\n",
        "import numpy as np\n",
        "from scipy import stats\n",
        "\n",
        "def ab_test_conversion_rate(conversions_a, sample_size_a, conversions_b, sample_size_b, alpha=0.05):\n",
        "    \"\"\"\n",
        "    ABテストの初回課金率の検定を行う関数\n",
        "\n",
        "    :param conversions_a: グループAの課金者数\n",
        "    :param sample_size_a: グループAのサンプルサイズ\n",
        "    :param conversions_b: グループBの課金者数\n",
        "    :param sample_size_b: グループBのサンプルサイズ\n",
        "    :param alpha: 有意水準（デフォルトは0.05）\n",
        "    :return: None\n",
        "    \"\"\"\n",
        "    # 課金率の計算\n",
        "    rate_a = conversions_a / sample_size_a\n",
        "    rate_b = conversions_b / sample_size_b\n",
        "\n",
        "    # プールされた標準誤差の計算\n",
        "    pooled_se = np.sqrt(rate_a * (1 - rate_a) / sample_size_a +\n",
        "                        rate_b * (1 - rate_b) / sample_size_b)\n",
        "\n",
        "    # Z統計量の計算\n",
        "    z_score = (rate_a - rate_b) / pooled_se\n",
        "\n",
        "    # p値の計算（両側検定）\n",
        "    p_value = 2 * (1 - stats.norm.cdf(abs(z_score)))\n",
        "\n",
        "    # 結果の出力\n",
        "    print(f\"グループA 課金率: {rate_a:.4f}\")\n",
        "    print(f\"グループB 課金率: {rate_b:.4f}\")\n",
        "    print(f\"課金率の差: {rate_a - rate_b:.4f}\")\n",
        "    print(f\"Z統計量: {z_score:.4f}\")\n",
        "    print(f\"p値: {p_value:.4f}\")\n",
        "\n",
        "    if p_value < alpha:\n",
        "        print(f\"p値（{p_value:.4f}）が有意水準（{alpha}）より小さいため、\")\n",
        "        print(\"帰無仮説を棄却します。グループ間に統計的に有意な差があります。\")\n",
        "    else:\n",
        "        print(f\"p値（{p_value:.4f}）が有意水準（{alpha}）以上のため、\")\n",
        "        print(\"帰無仮説を棄却できません。グループ間に統計的に有意な差があるとは言えません。\")\n",
        "\n",
        "# 使用例\n",
        "conversions_a = 180  # グループAの課金者数\n",
        "sample_size_a = 1000 # グループAのサンプルサイズ\n",
        "conversions_b = 150  # グループBの課金者数\n",
        "sample_size_b = 1000 # グループBのサンプルサイズ\n",
        "\n",
        "ab_test_conversion_rate(conversions_a, sample_size_a, conversions_b, sample_size_b)"
      ]
    }
  ]
}