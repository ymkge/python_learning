{
  "nbformat": 4,
  "nbformat_minor": 0,
  "metadata": {
    "colab": {
      "provenance": [],
      "include_colab_link": true
    },
    "kernelspec": {
      "name": "python3",
      "display_name": "Python 3"
    },
    "language_info": {
      "name": "python"
    }
  },
  "cells": [
    {
      "cell_type": "markdown",
      "metadata": {
        "id": "view-in-github",
        "colab_type": "text"
      },
      "source": [
        "<a href=\"https://colab.research.google.com/github/ymkge/python_learning/blob/main/google_colab%E4%B8%8A%E3%81%A7T%E6%A4%9C%E5%AE%9A%E3%82%92%E8%A1%8C%E3%81%86%E6%96%B9%E6%B3%95.ipynb\" target=\"_parent\"><img src=\"https://colab.research.google.com/assets/colab-badge.svg\" alt=\"Open In Colab\"/></a>"
      ]
    },
    {
      "cell_type": "markdown",
      "source": [
        "## T検定\n",
        "- ABテスト結果によるクリック数改善対応"
      ],
      "metadata": {
        "id": "Fo2tiwZEyeJE"
      }
    },
    {
      "cell_type": "code",
      "execution_count": 2,
      "metadata": {
        "colab": {
          "base_uri": "https://localhost:8080/"
        },
        "id": "rcH39h-rpKuE",
        "outputId": "3e9fb6b1-9703-4f7f-f7c7-91b10f302c08"
      },
      "outputs": [
        {
          "output_type": "stream",
          "name": "stdout",
          "text": [
            "t_stat: 3.5568003499327547\n",
            "p_value: 0.007918586753959036\n",
            "帰無仮説を棄却する。施策対象者と非対称者のクリック数に有意差あり。\n"
          ]
        }
      ],
      "source": [
        "import numpy as np\n",
        "import scipy.stats as stats\n",
        "\n",
        "# 施策対象者の継続率\n",
        "target_continuity_rate = np.array([50, 60, 70, 75, 65, 80])\n",
        "\n",
        "# 非対称者の継続率\n",
        "non_target_continuity_rate = np.array([45, 40, 55, 50, 55, 48])\n",
        "\n",
        "# 検定統計量\n",
        "t_stat, p_value = stats.ttest_ind(target_continuity_rate, non_target_continuity_rate, equal_var=False)\n",
        "\n",
        "# 結果の表示\n",
        "print(\"t_stat:\", t_stat)\n",
        "print(\"p_value:\", p_value)\n",
        "\n",
        "# 帰無仮説の棄却\n",
        "if p_value < 0.05:\n",
        "    print(\"帰無仮説を棄却する。施策対象者と非対称者のクリック数に有意差あり。\")\n",
        "else:\n",
        "    print(\"帰無仮説を棄却しない。施策対象者と非対称者のクリック数に有意差なし。\")\n"
      ]
    },
    {
      "cell_type": "code",
      "source": [],
      "metadata": {
        "id": "p9RqSyWVylbu"
      },
      "execution_count": null,
      "outputs": []
    },
    {
      "cell_type": "code",
      "source": [],
      "metadata": {
        "id": "uOBaTYfIylkk"
      },
      "execution_count": null,
      "outputs": []
    }
  ]
}